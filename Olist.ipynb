{
 "cells": [
  {
   "cell_type": "code",
   "execution_count": 1014,
   "id": "8cba9508",
   "metadata": {},
   "outputs": [],
   "source": [
    "#import important module\n",
    "import sqlite3 as db\n",
    "import pandas as pd\n",
    "import numpy as np\n",
    "import seaborn as sns\n",
    "import matplotlib.pyplot as plt\n",
    "from statsmodels import tsa\n",
    "from statsmodels.graphics.tsaplots import plot_acf, plot_pacf\n",
    "from pmdarima.arima import auto_arima\n",
    "%matplotlib inline"
   ]
  },
  {
   "cell_type": "code",
   "execution_count": 2,
   "id": "8657ffa8",
   "metadata": {},
   "outputs": [],
   "source": [
    "#Make a connection to the database\n",
    "def database_connection():\n",
    "    global conn, cur\n",
    "    try:\n",
    "        conn=db.connect('olist.db')\n",
    "        cur=conn.cursor()\n",
    "        print('Connected to SQLite')   \n",
    "    except db.Error as error:\n",
    "        print(\"Failed to update sqlite table\", error)\n",
    "    finally :\n",
    "        return conn, cur"
   ]
  },
  {
   "cell_type": "code",
   "execution_count": 3,
   "id": "31c998a7",
   "metadata": {},
   "outputs": [
    {
     "name": "stdout",
     "output_type": "stream",
     "text": [
      "Connected to SQLite\n"
     ]
    },
    {
     "data": {
      "text/plain": [
       "(<sqlite3.Connection at 0x7fe2b3ca37b0>, <sqlite3.Cursor at 0x7fe2b3cc3e30>)"
      ]
     },
     "execution_count": 3,
     "metadata": {},
     "output_type": "execute_result"
    }
   ],
   "source": [
    "database_connection()"
   ]
  },
  {
   "cell_type": "markdown",
   "id": "bc06b121",
   "metadata": {},
   "source": [
    "# Check all table in olist.db"
   ]
  },
  {
   "cell_type": "code",
   "execution_count": 4,
   "id": "f114c237",
   "metadata": {},
   "outputs": [],
   "source": [
    "#Show table_name\n",
    "query='''\n",
    "SELECT \n",
    "    name\n",
    "FROM \n",
    "    sqlite_schema\n",
    "WHERE \n",
    "    type ='table'\n",
    "'''"
   ]
  },
  {
   "cell_type": "code",
   "execution_count": 5,
   "id": "c3f2e85c",
   "metadata": {},
   "outputs": [
    {
     "data": {
      "text/html": [
       "<div>\n",
       "<style scoped>\n",
       "    .dataframe tbody tr th:only-of-type {\n",
       "        vertical-align: middle;\n",
       "    }\n",
       "\n",
       "    .dataframe tbody tr th {\n",
       "        vertical-align: top;\n",
       "    }\n",
       "\n",
       "    .dataframe thead th {\n",
       "        text-align: right;\n",
       "    }\n",
       "</style>\n",
       "<table border=\"1\" class=\"dataframe\">\n",
       "  <thead>\n",
       "    <tr style=\"text-align: right;\">\n",
       "      <th></th>\n",
       "      <th>name</th>\n",
       "    </tr>\n",
       "  </thead>\n",
       "  <tbody>\n",
       "    <tr>\n",
       "      <th>0</th>\n",
       "      <td>olist_order_customer_dataset</td>\n",
       "    </tr>\n",
       "    <tr>\n",
       "      <th>1</th>\n",
       "      <td>olist_order_dataset</td>\n",
       "    </tr>\n",
       "    <tr>\n",
       "      <th>2</th>\n",
       "      <td>olist_order_reviews_dataset</td>\n",
       "    </tr>\n",
       "    <tr>\n",
       "      <th>3</th>\n",
       "      <td>olist_order_payments_dataset</td>\n",
       "    </tr>\n",
       "    <tr>\n",
       "      <th>4</th>\n",
       "      <td>olist_order_items_dataset</td>\n",
       "    </tr>\n",
       "    <tr>\n",
       "      <th>5</th>\n",
       "      <td>olist_products_dataset</td>\n",
       "    </tr>\n",
       "    <tr>\n",
       "      <th>6</th>\n",
       "      <td>olist_sellers_dataset</td>\n",
       "    </tr>\n",
       "    <tr>\n",
       "      <th>7</th>\n",
       "      <td>olist_geolocation_dataset</td>\n",
       "    </tr>\n",
       "    <tr>\n",
       "      <th>8</th>\n",
       "      <td>product_category_name_translation</td>\n",
       "    </tr>\n",
       "  </tbody>\n",
       "</table>\n",
       "</div>"
      ],
      "text/plain": [
       "                                name\n",
       "0       olist_order_customer_dataset\n",
       "1                olist_order_dataset\n",
       "2        olist_order_reviews_dataset\n",
       "3       olist_order_payments_dataset\n",
       "4          olist_order_items_dataset\n",
       "5             olist_products_dataset\n",
       "6              olist_sellers_dataset\n",
       "7          olist_geolocation_dataset\n",
       "8  product_category_name_translation"
      ]
     },
     "execution_count": 5,
     "metadata": {},
     "output_type": "execute_result"
    }
   ],
   "source": [
    "#Show all table in olist database\n",
    "table_list=pd.read_sql_query(query,conn)\n",
    "table_list"
   ]
  },
  {
   "cell_type": "code",
   "execution_count": 6,
   "id": "e21eb95e",
   "metadata": {},
   "outputs": [
    {
     "name": "stdout",
     "output_type": "stream",
     "text": [
      "<class 'pandas.core.frame.DataFrame'>\n",
      "RangeIndex: 99441 entries, 0 to 99440\n",
      "Data columns (total 6 columns):\n",
      " #   Column                    Non-Null Count  Dtype \n",
      "---  ------                    --------------  ----- \n",
      " 0   index                     99441 non-null  int64 \n",
      " 1   customer_id               99441 non-null  object\n",
      " 2   customer_unique_id        99441 non-null  object\n",
      " 3   customer_zip_code_prefix  99441 non-null  int64 \n",
      " 4   customer_city             99441 non-null  object\n",
      " 5   customer_state            99441 non-null  object\n",
      "dtypes: int64(2), object(4)\n",
      "memory usage: 4.6+ MB\n"
     ]
    }
   ],
   "source": [
    "#Check customer dataset\n",
    "customer_query='''\n",
    "SELECT\n",
    "    *\n",
    "FROM\n",
    "   olist_order_customer_dataset\n",
    "'''\n",
    "customer_dataset=pd.read_sql_query(customer_query,conn)\n",
    "customer_dataset.info()"
   ]
  },
  {
   "cell_type": "markdown",
   "id": "ab9fe2e6",
   "metadata": {},
   "source": [
    "There is no nan value in this customer_table. The customer_id table must be unique. So duplicate check must be done in customer_id."
   ]
  },
  {
   "cell_type": "markdown",
   "id": "351edec5",
   "metadata": {},
   "source": [
    "There is no duplicated data in customer_id table."
   ]
  },
  {
   "cell_type": "code",
   "execution_count": 951,
   "id": "efd7dca1",
   "metadata": {},
   "outputs": [
    {
     "data": {
      "text/plain": [
       "index                       0\n",
       "customer_id                 0\n",
       "customer_unique_id          0\n",
       "customer_zip_code_prefix    0\n",
       "customer_city               0\n",
       "customer_state              0\n",
       "dtype: int64"
      ]
     },
     "execution_count": 951,
     "metadata": {},
     "output_type": "execute_result"
    }
   ],
   "source": [
    "customer_dataset.isna().sum()"
   ]
  },
  {
   "cell_type": "code",
   "execution_count": 950,
   "id": "186dc3e2",
   "metadata": {},
   "outputs": [
    {
     "data": {
      "text/plain": [
       "0"
      ]
     },
     "execution_count": 950,
     "metadata": {},
     "output_type": "execute_result"
    }
   ],
   "source": [
    "customer_dataset['customer_id'].duplicated().sum()"
   ]
  },
  {
   "cell_type": "code",
   "execution_count": 898,
   "id": "82a948db",
   "metadata": {},
   "outputs": [
    {
     "data": {
      "text/html": [
       "<div>\n",
       "<style scoped>\n",
       "    .dataframe tbody tr th:only-of-type {\n",
       "        vertical-align: middle;\n",
       "    }\n",
       "\n",
       "    .dataframe tbody tr th {\n",
       "        vertical-align: top;\n",
       "    }\n",
       "\n",
       "    .dataframe thead th {\n",
       "        text-align: right;\n",
       "    }\n",
       "</style>\n",
       "<table border=\"1\" class=\"dataframe\">\n",
       "  <thead>\n",
       "    <tr style=\"text-align: right;\">\n",
       "      <th></th>\n",
       "      <th>number_of_customer</th>\n",
       "    </tr>\n",
       "    <tr>\n",
       "      <th>customer_city</th>\n",
       "      <th></th>\n",
       "    </tr>\n",
       "  </thead>\n",
       "  <tbody>\n",
       "    <tr>\n",
       "      <th>sao paulo</th>\n",
       "      <td>15540</td>\n",
       "    </tr>\n",
       "    <tr>\n",
       "      <th>rio de janeiro</th>\n",
       "      <td>6882</td>\n",
       "    </tr>\n",
       "    <tr>\n",
       "      <th>belo horizonte</th>\n",
       "      <td>2773</td>\n",
       "    </tr>\n",
       "    <tr>\n",
       "      <th>brasilia</th>\n",
       "      <td>2131</td>\n",
       "    </tr>\n",
       "    <tr>\n",
       "      <th>curitiba</th>\n",
       "      <td>1521</td>\n",
       "    </tr>\n",
       "    <tr>\n",
       "      <th>...</th>\n",
       "      <td>...</td>\n",
       "    </tr>\n",
       "    <tr>\n",
       "      <th>ibiara</th>\n",
       "      <td>1</td>\n",
       "    </tr>\n",
       "    <tr>\n",
       "      <th>rio espera</th>\n",
       "      <td>1</td>\n",
       "    </tr>\n",
       "    <tr>\n",
       "      <th>rio dos indios</th>\n",
       "      <td>1</td>\n",
       "    </tr>\n",
       "    <tr>\n",
       "      <th>rio dos cedros</th>\n",
       "      <td>1</td>\n",
       "    </tr>\n",
       "    <tr>\n",
       "      <th>lagoao</th>\n",
       "      <td>1</td>\n",
       "    </tr>\n",
       "  </tbody>\n",
       "</table>\n",
       "<p>4119 rows × 1 columns</p>\n",
       "</div>"
      ],
      "text/plain": [
       "                number_of_customer\n",
       "customer_city                     \n",
       "sao paulo                    15540\n",
       "rio de janeiro                6882\n",
       "belo horizonte                2773\n",
       "brasilia                      2131\n",
       "curitiba                      1521\n",
       "...                            ...\n",
       "ibiara                           1\n",
       "rio espera                       1\n",
       "rio dos indios                   1\n",
       "rio dos cedros                   1\n",
       "lagoao                           1\n",
       "\n",
       "[4119 rows x 1 columns]"
      ]
     },
     "execution_count": 898,
     "metadata": {},
     "output_type": "execute_result"
    }
   ],
   "source": [
    "city_customer_dataset=customer_dataset.groupby('customer_city').agg({'customer_unique_id':'count'}).sort_values('customer_unique_id',ascending=False)\n",
    "city_customer_dataset=city_customer_dataset.rename(columns={'customer_unique_id':'number_of_customer'})\n",
    "city_customer_dataset"
   ]
  },
  {
   "cell_type": "markdown",
   "id": "1d76db00",
   "metadata": {},
   "source": [
    "There are 96096 customer in Olist"
   ]
  },
  {
   "cell_type": "code",
   "execution_count": 9,
   "id": "dd0641d6",
   "metadata": {},
   "outputs": [],
   "source": [
    "repeat_order=customer_dataset[customer_dataset.duplicated(subset='customer_unique_id' ,keep=False)].sort_values('customer_unique_id')\n",
    "new_repeat_order=repeat_order.groupby('customer_unique_id').agg({'customer_id':'count'}).sort_values('customer_id',ascending=False)"
   ]
  },
  {
   "cell_type": "code",
   "execution_count": 10,
   "id": "3d429a61",
   "metadata": {},
   "outputs": [
    {
     "name": "stdout",
     "output_type": "stream",
     "text": [
      "There are only 3.12 % user that repeat order in olist\n"
     ]
    }
   ],
   "source": [
    "repeat_order_percentage=new_repeat_order.shape[0]/customer_dataset['customer_unique_id'].nunique()\n",
    "print(f'There are only {repeat_order_percentage*100 :.3} % user that repeat order in olist' )"
   ]
  },
  {
   "cell_type": "code",
   "execution_count": 329,
   "id": "6facdaa4",
   "metadata": {},
   "outputs": [
    {
     "data": {
      "text/html": [
       "<div>\n",
       "<style scoped>\n",
       "    .dataframe tbody tr th:only-of-type {\n",
       "        vertical-align: middle;\n",
       "    }\n",
       "\n",
       "    .dataframe tbody tr th {\n",
       "        vertical-align: top;\n",
       "    }\n",
       "\n",
       "    .dataframe thead th {\n",
       "        text-align: right;\n",
       "    }\n",
       "</style>\n",
       "<table border=\"1\" class=\"dataframe\">\n",
       "  <thead>\n",
       "    <tr style=\"text-align: right;\">\n",
       "      <th></th>\n",
       "      <th>number_of_repeat_order_customer</th>\n",
       "    </tr>\n",
       "    <tr>\n",
       "      <th>customer_city</th>\n",
       "      <th></th>\n",
       "    </tr>\n",
       "  </thead>\n",
       "  <tbody>\n",
       "    <tr>\n",
       "      <th>sao paulo</th>\n",
       "      <td>1084</td>\n",
       "    </tr>\n",
       "    <tr>\n",
       "      <th>rio de janeiro</th>\n",
       "      <td>510</td>\n",
       "    </tr>\n",
       "    <tr>\n",
       "      <th>belo horizonte</th>\n",
       "      <td>198</td>\n",
       "    </tr>\n",
       "    <tr>\n",
       "      <th>brasilia</th>\n",
       "      <td>126</td>\n",
       "    </tr>\n",
       "    <tr>\n",
       "      <th>curitiba</th>\n",
       "      <td>104</td>\n",
       "    </tr>\n",
       "    <tr>\n",
       "      <th>...</th>\n",
       "      <td>...</td>\n",
       "    </tr>\n",
       "    <tr>\n",
       "      <th>pomerode</th>\n",
       "      <td>1</td>\n",
       "    </tr>\n",
       "    <tr>\n",
       "      <th>planaltina</th>\n",
       "      <td>1</td>\n",
       "    </tr>\n",
       "    <tr>\n",
       "      <th>mariluz</th>\n",
       "      <td>1</td>\n",
       "    </tr>\n",
       "    <tr>\n",
       "      <th>bom jesus do galho</th>\n",
       "      <td>1</td>\n",
       "    </tr>\n",
       "    <tr>\n",
       "      <th>abelardo luz</th>\n",
       "      <td>1</td>\n",
       "    </tr>\n",
       "  </tbody>\n",
       "</table>\n",
       "<p>819 rows × 1 columns</p>\n",
       "</div>"
      ],
      "text/plain": [
       "                    number_of_repeat_order_customer\n",
       "customer_city                                      \n",
       "sao paulo                                      1084\n",
       "rio de janeiro                                  510\n",
       "belo horizonte                                  198\n",
       "brasilia                                        126\n",
       "curitiba                                        104\n",
       "...                                             ...\n",
       "pomerode                                          1\n",
       "planaltina                                        1\n",
       "mariluz                                           1\n",
       "bom jesus do galho                                1\n",
       "abelardo luz                                      1\n",
       "\n",
       "[819 rows x 1 columns]"
      ]
     },
     "execution_count": 329,
     "metadata": {},
     "output_type": "execute_result"
    }
   ],
   "source": [
    "city_repeat_order=repeat_order.groupby('customer_city').agg({'customer_unique_id':'count'}).sort_values('customer_unique_id',ascending=False)\n",
    "city_repeat_order=city_repeat_order.rename(columns={'customer_unique_id':'number_of_repeat_order_customer'})\n",
    "city_repeat_order"
   ]
  },
  {
   "cell_type": "code",
   "execution_count": 12,
   "id": "6d39d605",
   "metadata": {},
   "outputs": [
    {
     "data": {
      "text/plain": [
       "<AxesSubplot:xlabel='customer_unique_id', ylabel='customer_city'>"
      ]
     },
     "execution_count": 12,
     "metadata": {},
     "output_type": "execute_result"
    },
    {
     "data": {
      "image/png": "[encoded data removed]",
      "text/plain": [
       "<Figure size 432x288 with 1 Axes>"
      ]
     },
     "metadata": {
      "needs_background": "light"
     },
     "output_type": "display_data"
    }
   ],
   "source": [
    "sns.barplot(data=city_repeat_order,y=city_repeat_order.head(10).index, x=city_repeat_order['customer_unique_id'].head(10))"
   ]
  },
  {
   "cell_type": "code",
   "execution_count": 13,
   "id": "64e20d1b",
   "metadata": {},
   "outputs": [
    {
     "name": "stdout",
     "output_type": "stream",
     "text": [
      "<class 'pandas.core.frame.DataFrame'>\n",
      "RangeIndex: 99441 entries, 0 to 99440\n",
      "Data columns (total 9 columns):\n",
      " #   Column                         Non-Null Count  Dtype \n",
      "---  ------                         --------------  ----- \n",
      " 0   index                          99441 non-null  int64 \n",
      " 1   order_id                       99441 non-null  object\n",
      " 2   customer_id                    99441 non-null  object\n",
      " 3   order_status                   99441 non-null  object\n",
      " 4   order_purchase_timestamp       99441 non-null  object\n",
      " 5   order_approved_at              99281 non-null  object\n",
      " 6   order_delivered_carrier_date   97658 non-null  object\n",
      " 7   order_delivered_customer_date  96476 non-null  object\n",
      " 8   order_estimated_delivery_date  99441 non-null  object\n",
      "dtypes: int64(1), object(8)\n",
      "memory usage: 6.8+ MB\n"
     ]
    }
   ],
   "source": [
    "#Check olist_order_dataset\n",
    "order_query='''\n",
    "SELECT\n",
    "    *\n",
    "FROM\n",
    "   olist_order_dataset\n",
    "'''\n",
    "order_dataset=pd.read_sql_query(order_query,conn)\n",
    "order_dataset.info()"
   ]
  },
  {
   "cell_type": "code",
   "execution_count": 902,
   "id": "443885f6",
   "metadata": {},
   "outputs": [
    {
     "data": {
      "text/plain": [
       "index                               0\n",
       "order_id                            0\n",
       "customer_id                         0\n",
       "order_status                        0\n",
       "order_purchase_timestamp            0\n",
       "order_approved_at                 160\n",
       "order_delivered_carrier_date     1783\n",
       "order_delivered_customer_date    2965\n",
       "order_estimated_delivery_date       0\n",
       "dtype: int64"
      ]
     },
     "execution_count": 902,
     "metadata": {},
     "output_type": "execute_result"
    }
   ],
   "source": [
    "order_dataset.isna().sum()"
   ]
  },
  {
   "cell_type": "markdown",
   "id": "7a8afdd8",
   "metadata": {},
   "source": [
    "- There is null value in column order_approved_at, order_delivered_carrier_date, order_delivered_customer_date. It must be related with order status. If order status is not delivered, the date of order_delivered_customer_date will be null. And so on.\n",
    "- Customer_id and order_id are the column those must be unique. Check duplicated data in both column are needed."
   ]
  },
  {
   "cell_type": "markdown",
   "id": "24f251f3",
   "metadata": {},
   "source": [
    "There is no duplicated data in both column"
   ]
  },
  {
   "cell_type": "code",
   "execution_count": 14,
   "id": "b4bf49eb",
   "metadata": {},
   "outputs": [
    {
     "data": {
      "text/plain": [
       "0"
      ]
     },
     "execution_count": 14,
     "metadata": {},
     "output_type": "execute_result"
    }
   ],
   "source": [
    "order_dataset.duplicated(subset=['customer_id','order_id']).sum()"
   ]
  },
  {
   "cell_type": "code",
   "execution_count": 15,
   "id": "151f471f",
   "metadata": {},
   "outputs": [
    {
     "data": {
      "text/plain": [
       "<AxesSubplot:xlabel='count', ylabel='order_status'>"
      ]
     },
     "execution_count": 15,
     "metadata": {},
     "output_type": "execute_result"
    },
    {
     "data": {
      "image/png": "[encoded data removed]",
      "text/plain": [
       "<Figure size 432x288 with 1 Axes>"
      ]
     },
     "metadata": {
      "needs_background": "light"
     },
     "output_type": "display_data"
    }
   ],
   "source": [
    "sns.countplot(y=order_dataset['order_status'],order=order_dataset['order_status'].value_counts().iloc[:10].index)"
   ]
  },
  {
   "cell_type": "markdown",
   "id": "9a04055d",
   "metadata": {},
   "source": [
    "Most of order status is delivered"
   ]
  },
  {
   "cell_type": "code",
   "execution_count": 910,
   "id": "8cfcb960",
   "metadata": {},
   "outputs": [
    {
     "data": {
      "text/plain": [
       "index                             0\n",
       "order_id                          0\n",
       "customer_id                       0\n",
       "order_status                      0\n",
       "order_purchase_timestamp          0\n",
       "order_approved_at                14\n",
       "order_delivered_carrier_date      2\n",
       "order_delivered_customer_date     8\n",
       "order_estimated_delivery_date     0\n",
       "dtype: int64"
      ]
     },
     "execution_count": 910,
     "metadata": {},
     "output_type": "execute_result"
    }
   ],
   "source": [
    "data_delivered=order_dataset[order_dataset['order_status']=='delivered']\n",
    "data_delivered.isna().sum()"
   ]
  },
  {
   "cell_type": "code",
   "execution_count": 912,
   "id": "ee49b820",
   "metadata": {},
   "outputs": [
    {
     "data": {
      "text/html": [
       "<div>\n",
       "<style scoped>\n",
       "    .dataframe tbody tr th:only-of-type {\n",
       "        vertical-align: middle;\n",
       "    }\n",
       "\n",
       "    .dataframe tbody tr th {\n",
       "        vertical-align: top;\n",
       "    }\n",
       "\n",
       "    .dataframe thead th {\n",
       "        text-align: right;\n",
       "    }\n",
       "</style>\n",
       "<table border=\"1\" class=\"dataframe\">\n",
       "  <thead>\n",
       "    <tr style=\"text-align: right;\">\n",
       "      <th></th>\n",
       "      <th>index</th>\n",
       "      <th>order_id</th>\n",
       "      <th>customer_id</th>\n",
       "      <th>order_status</th>\n",
       "      <th>order_purchase_timestamp</th>\n",
       "      <th>order_approved_at</th>\n",
       "      <th>order_delivered_carrier_date</th>\n",
       "      <th>order_delivered_customer_date</th>\n",
       "      <th>order_estimated_delivery_date</th>\n",
       "    </tr>\n",
       "  </thead>\n",
       "  <tbody>\n",
       "    <tr>\n",
       "      <th>3002</th>\n",
       "      <td>3002</td>\n",
       "      <td>2d1e2d5bf4dc7227b3bfebb81328c15f</td>\n",
       "      <td>ec05a6d8558c6455f0cbbd8a420ad34f</td>\n",
       "      <td>delivered</td>\n",
       "      <td>2017-11-28 17:44:07</td>\n",
       "      <td>2017-11-28 17:56:40</td>\n",
       "      <td>2017-11-30 18:12:23</td>\n",
       "      <td>None</td>\n",
       "      <td>2017-12-18 00:00:00</td>\n",
       "    </tr>\n",
       "    <tr>\n",
       "      <th>20618</th>\n",
       "      <td>20618</td>\n",
       "      <td>f5dd62b788049ad9fc0526e3ad11a097</td>\n",
       "      <td>5e89028e024b381dc84a13a3570decb4</td>\n",
       "      <td>delivered</td>\n",
       "      <td>2018-06-20 06:58:43</td>\n",
       "      <td>2018-06-20 07:19:05</td>\n",
       "      <td>2018-06-25 08:05:00</td>\n",
       "      <td>None</td>\n",
       "      <td>2018-07-16 00:00:00</td>\n",
       "    </tr>\n",
       "    <tr>\n",
       "      <th>43834</th>\n",
       "      <td>43834</td>\n",
       "      <td>2ebdfc4f15f23b91474edf87475f108e</td>\n",
       "      <td>29f0540231702fda0cfdee0a310f11aa</td>\n",
       "      <td>delivered</td>\n",
       "      <td>2018-07-01 17:05:11</td>\n",
       "      <td>2018-07-01 17:15:12</td>\n",
       "      <td>2018-07-03 13:57:00</td>\n",
       "      <td>None</td>\n",
       "      <td>2018-07-30 00:00:00</td>\n",
       "    </tr>\n",
       "    <tr>\n",
       "      <th>79263</th>\n",
       "      <td>79263</td>\n",
       "      <td>e69f75a717d64fc5ecdfae42b2e8e086</td>\n",
       "      <td>cfda40ca8dd0a5d486a9635b611b398a</td>\n",
       "      <td>delivered</td>\n",
       "      <td>2018-07-01 22:05:55</td>\n",
       "      <td>2018-07-01 22:15:14</td>\n",
       "      <td>2018-07-03 13:57:00</td>\n",
       "      <td>None</td>\n",
       "      <td>2018-07-30 00:00:00</td>\n",
       "    </tr>\n",
       "    <tr>\n",
       "      <th>82868</th>\n",
       "      <td>82868</td>\n",
       "      <td>0d3268bad9b086af767785e3f0fc0133</td>\n",
       "      <td>4f1d63d35fb7c8999853b2699f5c7649</td>\n",
       "      <td>delivered</td>\n",
       "      <td>2018-07-01 21:14:02</td>\n",
       "      <td>2018-07-01 21:29:54</td>\n",
       "      <td>2018-07-03 09:28:00</td>\n",
       "      <td>None</td>\n",
       "      <td>2018-07-24 00:00:00</td>\n",
       "    </tr>\n",
       "    <tr>\n",
       "      <th>92643</th>\n",
       "      <td>92643</td>\n",
       "      <td>2d858f451373b04fb5c984a1cc2defaf</td>\n",
       "      <td>e08caf668d499a6d643dafd7c5cc498a</td>\n",
       "      <td>delivered</td>\n",
       "      <td>2017-05-25 23:22:43</td>\n",
       "      <td>2017-05-25 23:30:16</td>\n",
       "      <td>None</td>\n",
       "      <td>None</td>\n",
       "      <td>2017-06-23 00:00:00</td>\n",
       "    </tr>\n",
       "    <tr>\n",
       "      <th>97647</th>\n",
       "      <td>97647</td>\n",
       "      <td>ab7c89dc1bf4a1ead9d6ec1ec8968a84</td>\n",
       "      <td>dd1b84a7286eb4524d52af4256c0ba24</td>\n",
       "      <td>delivered</td>\n",
       "      <td>2018-06-08 12:09:39</td>\n",
       "      <td>2018-06-08 12:36:39</td>\n",
       "      <td>2018-06-12 14:10:00</td>\n",
       "      <td>None</td>\n",
       "      <td>2018-06-26 00:00:00</td>\n",
       "    </tr>\n",
       "    <tr>\n",
       "      <th>98038</th>\n",
       "      <td>98038</td>\n",
       "      <td>20edc82cf5400ce95e1afacc25798b31</td>\n",
       "      <td>28c37425f1127d887d7337f284080a0f</td>\n",
       "      <td>delivered</td>\n",
       "      <td>2018-06-27 16:09:12</td>\n",
       "      <td>2018-06-27 16:29:30</td>\n",
       "      <td>2018-07-03 19:26:00</td>\n",
       "      <td>None</td>\n",
       "      <td>2018-07-19 00:00:00</td>\n",
       "    </tr>\n",
       "  </tbody>\n",
       "</table>\n",
       "</div>"
      ],
      "text/plain": [
       "       index                          order_id  \\\n",
       "3002    3002  2d1e2d5bf4dc7227b3bfebb81328c15f   \n",
       "20618  20618  f5dd62b788049ad9fc0526e3ad11a097   \n",
       "43834  43834  2ebdfc4f15f23b91474edf87475f108e   \n",
       "79263  79263  e69f75a717d64fc5ecdfae42b2e8e086   \n",
       "82868  82868  0d3268bad9b086af767785e3f0fc0133   \n",
       "92643  92643  2d858f451373b04fb5c984a1cc2defaf   \n",
       "97647  97647  ab7c89dc1bf4a1ead9d6ec1ec8968a84   \n",
       "98038  98038  20edc82cf5400ce95e1afacc25798b31   \n",
       "\n",
       "                            customer_id order_status order_purchase_timestamp  \\\n",
       "3002   ec05a6d8558c6455f0cbbd8a420ad34f    delivered      2017-11-28 17:44:07   \n",
       "20618  5e89028e024b381dc84a13a3570decb4    delivered      2018-06-20 06:58:43   \n",
       "43834  29f0540231702fda0cfdee0a310f11aa    delivered      2018-07-01 17:05:11   \n",
       "79263  cfda40ca8dd0a5d486a9635b611b398a    delivered      2018-07-01 22:05:55   \n",
       "82868  4f1d63d35fb7c8999853b2699f5c7649    delivered      2018-07-01 21:14:02   \n",
       "92643  e08caf668d499a6d643dafd7c5cc498a    delivered      2017-05-25 23:22:43   \n",
       "97647  dd1b84a7286eb4524d52af4256c0ba24    delivered      2018-06-08 12:09:39   \n",
       "98038  28c37425f1127d887d7337f284080a0f    delivered      2018-06-27 16:09:12   \n",
       "\n",
       "         order_approved_at order_delivered_carrier_date  \\\n",
       "3002   2017-11-28 17:56:40          2017-11-30 18:12:23   \n",
       "20618  2018-06-20 07:19:05          2018-06-25 08:05:00   \n",
       "43834  2018-07-01 17:15:12          2018-07-03 13:57:00   \n",
       "79263  2018-07-01 22:15:14          2018-07-03 13:57:00   \n",
       "82868  2018-07-01 21:29:54          2018-07-03 09:28:00   \n",
       "92643  2017-05-25 23:30:16                         None   \n",
       "97647  2018-06-08 12:36:39          2018-06-12 14:10:00   \n",
       "98038  2018-06-27 16:29:30          2018-07-03 19:26:00   \n",
       "\n",
       "      order_delivered_customer_date order_estimated_delivery_date  \n",
       "3002                           None           2017-12-18 00:00:00  \n",
       "20618                          None           2018-07-16 00:00:00  \n",
       "43834                          None           2018-07-30 00:00:00  \n",
       "79263                          None           2018-07-30 00:00:00  \n",
       "82868                          None           2018-07-24 00:00:00  \n",
       "92643                          None           2017-06-23 00:00:00  \n",
       "97647                          None           2018-06-26 00:00:00  \n",
       "98038                          None           2018-07-19 00:00:00  "
      ]
     },
     "execution_count": 912,
     "metadata": {},
     "output_type": "execute_result"
    }
   ],
   "source": [
    "data_delivered[data_delivered['order_delivered_customer_date'].isna()]"
   ]
  },
  {
   "cell_type": "code",
   "execution_count": 16,
   "id": "15629231",
   "metadata": {},
   "outputs": [
    {
     "name": "stdout",
     "output_type": "stream",
     "text": [
      "<class 'pandas.core.frame.DataFrame'>\n",
      "RangeIndex: 99224 entries, 0 to 99223\n",
      "Data columns (total 8 columns):\n",
      " #   Column                   Non-Null Count  Dtype \n",
      "---  ------                   --------------  ----- \n",
      " 0   index                    99224 non-null  int64 \n",
      " 1   review_id                99224 non-null  object\n",
      " 2   order_id                 99224 non-null  object\n",
      " 3   review_score             99224 non-null  int64 \n",
      " 4   review_comment_title     11568 non-null  object\n",
      " 5   review_comment_message   40977 non-null  object\n",
      " 6   review_creation_date     99224 non-null  object\n",
      " 7   review_answer_timestamp  99224 non-null  object\n",
      "dtypes: int64(2), object(6)\n",
      "memory usage: 6.1+ MB\n"
     ]
    }
   ],
   "source": [
    "#Check olist_order_reviews_dataset\n",
    "order_review_query='''\n",
    "SELECT\n",
    "    *\n",
    "FROM\n",
    "   olist_order_reviews_dataset\n",
    "'''\n",
    "reviews_dataset=pd.read_sql_query(order_review_query,conn)\n",
    "reviews_dataset.info()"
   ]
  },
  {
   "cell_type": "markdown",
   "id": "9faf5c08",
   "metadata": {},
   "source": [
    "There is null value in review_comment_title and. review_comment_message. Review_id must be unique."
   ]
  },
  {
   "cell_type": "code",
   "execution_count": 17,
   "id": "27caf533",
   "metadata": {},
   "outputs": [
    {
     "data": {
      "text/plain": [
       "review_id    0.991796\n",
       "order_id     0.994447\n",
       "dtype: float64"
      ]
     },
     "execution_count": 17,
     "metadata": {},
     "output_type": "execute_result"
    }
   ],
   "source": [
    "reviews_dataset[['review_id','order_id']].nunique()/reviews_dataset.shape[0]"
   ]
  },
  {
   "cell_type": "markdown",
   "id": "fc796ef7",
   "metadata": {},
   "source": [
    "There are duplicated data in review_id and order_id"
   ]
  },
  {
   "cell_type": "code",
   "execution_count": 18,
   "id": "c58afef9",
   "metadata": {},
   "outputs": [
    {
     "data": {
      "text/html": [
       "<div>\n",
       "<style scoped>\n",
       "    .dataframe tbody tr th:only-of-type {\n",
       "        vertical-align: middle;\n",
       "    }\n",
       "\n",
       "    .dataframe tbody tr th {\n",
       "        vertical-align: top;\n",
       "    }\n",
       "\n",
       "    .dataframe thead th {\n",
       "        text-align: right;\n",
       "    }\n",
       "</style>\n",
       "<table border=\"1\" class=\"dataframe\">\n",
       "  <thead>\n",
       "    <tr style=\"text-align: right;\">\n",
       "      <th></th>\n",
       "      <th>index</th>\n",
       "      <th>review_id</th>\n",
       "      <th>order_id</th>\n",
       "      <th>review_score</th>\n",
       "      <th>review_comment_title</th>\n",
       "      <th>review_comment_message</th>\n",
       "      <th>review_creation_date</th>\n",
       "      <th>review_answer_timestamp</th>\n",
       "    </tr>\n",
       "  </thead>\n",
       "  <tbody>\n",
       "    <tr>\n",
       "      <th>46678</th>\n",
       "      <td>46678</td>\n",
       "      <td>00130cbe1f9d422698c812ed8ded1919</td>\n",
       "      <td>dfcdfc43867d1c1381bfaf62d6b9c195</td>\n",
       "      <td>1</td>\n",
       "      <td>None</td>\n",
       "      <td>O cartucho \"original HP\" 60XL não é reconhecid...</td>\n",
       "      <td>2018-03-07 00:00:00</td>\n",
       "      <td>2018-03-20 18:08:23</td>\n",
       "    </tr>\n",
       "    <tr>\n",
       "      <th>29841</th>\n",
       "      <td>29841</td>\n",
       "      <td>00130cbe1f9d422698c812ed8ded1919</td>\n",
       "      <td>04a28263e085d399c97ae49e0b477efa</td>\n",
       "      <td>1</td>\n",
       "      <td>None</td>\n",
       "      <td>O cartucho \"original HP\" 60XL não é reconhecid...</td>\n",
       "      <td>2018-03-07 00:00:00</td>\n",
       "      <td>2018-03-20 18:08:23</td>\n",
       "    </tr>\n",
       "    <tr>\n",
       "      <th>90677</th>\n",
       "      <td>90677</td>\n",
       "      <td>0115633a9c298b6a98bcbe4eee75345f</td>\n",
       "      <td>78a4201f58af3463bdab842eea4bc801</td>\n",
       "      <td>5</td>\n",
       "      <td>None</td>\n",
       "      <td>None</td>\n",
       "      <td>2017-09-21 00:00:00</td>\n",
       "      <td>2017-09-26 03:27:47</td>\n",
       "    </tr>\n",
       "    <tr>\n",
       "      <th>63193</th>\n",
       "      <td>63193</td>\n",
       "      <td>0115633a9c298b6a98bcbe4eee75345f</td>\n",
       "      <td>0c9850b2c179c1ef60d2855e2751d1fa</td>\n",
       "      <td>5</td>\n",
       "      <td>None</td>\n",
       "      <td>None</td>\n",
       "      <td>2017-09-21 00:00:00</td>\n",
       "      <td>2017-09-26 03:27:47</td>\n",
       "    </tr>\n",
       "    <tr>\n",
       "      <th>92876</th>\n",
       "      <td>92876</td>\n",
       "      <td>0174caf0ee5964646040cd94e15ac95e</td>\n",
       "      <td>f93a732712407c02dce5dd5088d0f47b</td>\n",
       "      <td>1</td>\n",
       "      <td>None</td>\n",
       "      <td>Produto entregue dentro de embalagem do fornec...</td>\n",
       "      <td>2018-03-07 00:00:00</td>\n",
       "      <td>2018-03-08 03:00:53</td>\n",
       "    </tr>\n",
       "    <tr>\n",
       "      <th>...</th>\n",
       "      <td>...</td>\n",
       "      <td>...</td>\n",
       "      <td>...</td>\n",
       "      <td>...</td>\n",
       "      <td>...</td>\n",
       "      <td>...</td>\n",
       "      <td>...</td>\n",
       "      <td>...</td>\n",
       "    </tr>\n",
       "    <tr>\n",
       "      <th>31120</th>\n",
       "      <td>31120</td>\n",
       "      <td>fe5c833752953fed3209646f1f63b53c</td>\n",
       "      <td>4863e15fa53273cc7219c58f5ffda4fb</td>\n",
       "      <td>1</td>\n",
       "      <td>None</td>\n",
       "      <td>Comprei dois produtos e ambos, mesmo enviados ...</td>\n",
       "      <td>2018-02-28 00:00:00</td>\n",
       "      <td>2018-02-28 13:57:52</td>\n",
       "    </tr>\n",
       "    <tr>\n",
       "      <th>7870</th>\n",
       "      <td>7870</td>\n",
       "      <td>ff2fc9e68f8aabfbe18d710b83aabd30</td>\n",
       "      <td>2da58e0a7dcfa4ce1e00fad9d03ca3b5</td>\n",
       "      <td>2</td>\n",
       "      <td>None</td>\n",
       "      <td>None</td>\n",
       "      <td>2018-03-17 00:00:00</td>\n",
       "      <td>2018-03-19 11:44:15</td>\n",
       "    </tr>\n",
       "    <tr>\n",
       "      <th>82521</th>\n",
       "      <td>82521</td>\n",
       "      <td>ff2fc9e68f8aabfbe18d710b83aabd30</td>\n",
       "      <td>1078d496cc6ab9a8e6f2be77abf5091b</td>\n",
       "      <td>2</td>\n",
       "      <td>None</td>\n",
       "      <td>None</td>\n",
       "      <td>2018-03-17 00:00:00</td>\n",
       "      <td>2018-03-19 11:44:15</td>\n",
       "    </tr>\n",
       "    <tr>\n",
       "      <th>73951</th>\n",
       "      <td>73951</td>\n",
       "      <td>ffb8cff872a625632ac983eb1f88843c</td>\n",
       "      <td>c44883fc2529b4aa03ca90e7e09d95b6</td>\n",
       "      <td>3</td>\n",
       "      <td>None</td>\n",
       "      <td>None</td>\n",
       "      <td>2017-07-22 00:00:00</td>\n",
       "      <td>2017-07-26 13:41:07</td>\n",
       "    </tr>\n",
       "    <tr>\n",
       "      <th>1985</th>\n",
       "      <td>1985</td>\n",
       "      <td>ffb8cff872a625632ac983eb1f88843c</td>\n",
       "      <td>c88b1d1b157a9999ce368f218a407141</td>\n",
       "      <td>3</td>\n",
       "      <td>None</td>\n",
       "      <td>None</td>\n",
       "      <td>2017-07-22 00:00:00</td>\n",
       "      <td>2017-07-26 13:41:07</td>\n",
       "    </tr>\n",
       "  </tbody>\n",
       "</table>\n",
       "<p>1603 rows × 8 columns</p>\n",
       "</div>"
      ],
      "text/plain": [
       "       index                         review_id  \\\n",
       "46678  46678  00130cbe1f9d422698c812ed8ded1919   \n",
       "29841  29841  00130cbe1f9d422698c812ed8ded1919   \n",
       "90677  90677  0115633a9c298b6a98bcbe4eee75345f   \n",
       "63193  63193  0115633a9c298b6a98bcbe4eee75345f   \n",
       "92876  92876  0174caf0ee5964646040cd94e15ac95e   \n",
       "...      ...                               ...   \n",
       "31120  31120  fe5c833752953fed3209646f1f63b53c   \n",
       "7870    7870  ff2fc9e68f8aabfbe18d710b83aabd30   \n",
       "82521  82521  ff2fc9e68f8aabfbe18d710b83aabd30   \n",
       "73951  73951  ffb8cff872a625632ac983eb1f88843c   \n",
       "1985    1985  ffb8cff872a625632ac983eb1f88843c   \n",
       "\n",
       "                               order_id  review_score review_comment_title  \\\n",
       "46678  dfcdfc43867d1c1381bfaf62d6b9c195             1                 None   \n",
       "29841  04a28263e085d399c97ae49e0b477efa             1                 None   \n",
       "90677  78a4201f58af3463bdab842eea4bc801             5                 None   \n",
       "63193  0c9850b2c179c1ef60d2855e2751d1fa             5                 None   \n",
       "92876  f93a732712407c02dce5dd5088d0f47b             1                 None   \n",
       "...                                 ...           ...                  ...   \n",
       "31120  4863e15fa53273cc7219c58f5ffda4fb             1                 None   \n",
       "7870   2da58e0a7dcfa4ce1e00fad9d03ca3b5             2                 None   \n",
       "82521  1078d496cc6ab9a8e6f2be77abf5091b             2                 None   \n",
       "73951  c44883fc2529b4aa03ca90e7e09d95b6             3                 None   \n",
       "1985   c88b1d1b157a9999ce368f218a407141             3                 None   \n",
       "\n",
       "                                  review_comment_message review_creation_date  \\\n",
       "46678  O cartucho \"original HP\" 60XL não é reconhecid...  2018-03-07 00:00:00   \n",
       "29841  O cartucho \"original HP\" 60XL não é reconhecid...  2018-03-07 00:00:00   \n",
       "90677                                               None  2017-09-21 00:00:00   \n",
       "63193                                               None  2017-09-21 00:00:00   \n",
       "92876  Produto entregue dentro de embalagem do fornec...  2018-03-07 00:00:00   \n",
       "...                                                  ...                  ...   \n",
       "31120  Comprei dois produtos e ambos, mesmo enviados ...  2018-02-28 00:00:00   \n",
       "7870                                                None  2018-03-17 00:00:00   \n",
       "82521                                               None  2018-03-17 00:00:00   \n",
       "73951                                               None  2017-07-22 00:00:00   \n",
       "1985                                                None  2017-07-22 00:00:00   \n",
       "\n",
       "      review_answer_timestamp  \n",
       "46678     2018-03-20 18:08:23  \n",
       "29841     2018-03-20 18:08:23  \n",
       "90677     2017-09-26 03:27:47  \n",
       "63193     2017-09-26 03:27:47  \n",
       "92876     2018-03-08 03:00:53  \n",
       "...                       ...  \n",
       "31120     2018-02-28 13:57:52  \n",
       "7870      2018-03-19 11:44:15  \n",
       "82521     2018-03-19 11:44:15  \n",
       "73951     2017-07-26 13:41:07  \n",
       "1985      2017-07-26 13:41:07  \n",
       "\n",
       "[1603 rows x 8 columns]"
      ]
     },
     "execution_count": 18,
     "metadata": {},
     "output_type": "execute_result"
    }
   ],
   "source": [
    "reviews_dataset[reviews_dataset['review_id'].duplicated(keep=False)].sort_values('review_id')"
   ]
  },
  {
   "cell_type": "markdown",
   "id": "bc3c74d5",
   "metadata": {},
   "source": [
    "After i check the dataset. The comment seems like double post. So it need to be cleaned."
   ]
  },
  {
   "cell_type": "code",
   "execution_count": 19,
   "id": "c86f89b1",
   "metadata": {},
   "outputs": [
    {
     "name": "stdout",
     "output_type": "stream",
     "text": [
      "<class 'pandas.core.frame.DataFrame'>\n",
      "RangeIndex: 103886 entries, 0 to 103885\n",
      "Data columns (total 6 columns):\n",
      " #   Column                Non-Null Count   Dtype  \n",
      "---  ------                --------------   -----  \n",
      " 0   index                 103886 non-null  int64  \n",
      " 1   order_id              103886 non-null  object \n",
      " 2   payment_sequential    103886 non-null  int64  \n",
      " 3   payment_type          103886 non-null  object \n",
      " 4   payment_installments  103886 non-null  int64  \n",
      " 5   payment_value         103886 non-null  float64\n",
      "dtypes: float64(1), int64(3), object(2)\n",
      "memory usage: 4.8+ MB\n"
     ]
    }
   ],
   "source": [
    "#Check olist_order_payments_dataset\n",
    "order_payments_query='''\n",
    "SELECT\n",
    "    *\n",
    "FROM\n",
    "   olist_order_payments_dataset\n",
    "'''\n",
    "payments_dataset=pd.read_sql_query(order_payments_query,conn)\n",
    "payments_dataset.info()"
   ]
  },
  {
   "cell_type": "markdown",
   "id": "7811bc0e",
   "metadata": {},
   "source": [
    "All column have no null value. Order_id can double because of one order_id can have two type of payment"
   ]
  },
  {
   "cell_type": "code",
   "execution_count": 20,
   "id": "600e3dbb",
   "metadata": {},
   "outputs": [
    {
     "data": {
      "text/plain": [
       "<AxesSubplot:xlabel='payment_value', ylabel='Density'>"
      ]
     },
     "execution_count": 20,
     "metadata": {},
     "output_type": "execute_result"
    },
    {
     "data": {
      "image/png": "[encoded data removed]",
      "text/plain": [
       "<Figure size 432x288 with 1 Axes>"
      ]
     },
     "metadata": {
      "needs_background": "light"
     },
     "output_type": "display_data"
    }
   ],
   "source": [
    "#Check distribution of payment amount\n",
    "sns.kdeplot(payments_dataset['payment_value'],cut=0,clip=(15,500))"
   ]
  },
  {
   "cell_type": "markdown",
   "id": "013661f4",
   "metadata": {},
   "source": [
    "Most of payment is below 100 USD"
   ]
  },
  {
   "cell_type": "code",
   "execution_count": 929,
   "id": "a1c3cea3",
   "metadata": {},
   "outputs": [
    {
     "name": "stdout",
     "output_type": "stream",
     "text": [
      "<class 'pandas.core.frame.DataFrame'>\n",
      "RangeIndex: 112650 entries, 0 to 112649\n",
      "Data columns (total 8 columns):\n",
      " #   Column               Non-Null Count   Dtype  \n",
      "---  ------               --------------   -----  \n",
      " 0   index                112650 non-null  int64  \n",
      " 1   order_id             112650 non-null  object \n",
      " 2   order_item_id        112650 non-null  int64  \n",
      " 3   product_id           112650 non-null  object \n",
      " 4   seller_id            112650 non-null  object \n",
      " 5   shipping_limit_date  112650 non-null  object \n",
      " 6   price                112650 non-null  float64\n",
      " 7   freight_value        112650 non-null  float64\n",
      "dtypes: float64(2), int64(2), object(4)\n",
      "memory usage: 6.9+ MB\n"
     ]
    }
   ],
   "source": [
    "#Check olist_order_items_dataset\n",
    "order_items_query='''\n",
    "SELECT\n",
    "    *\n",
    "FROM\n",
    "   olist_order_items_dataset\n",
    "'''\n",
    "items_dataset=pd.read_sql_query(order_items_query,conn)\n",
    "items_dataset.info()"
   ]
  },
  {
   "cell_type": "code",
   "execution_count": 935,
   "id": "ca2c8ea2",
   "metadata": {},
   "outputs": [
    {
     "data": {
      "text/plain": [
       "Index(['index', 'order_id', 'order_item_id', 'product_id', 'seller_id',\n",
       "       'shipping_limit_date', 'price', 'freight_value'],\n",
       "      dtype='object')"
      ]
     },
     "execution_count": 935,
     "metadata": {},
     "output_type": "execute_result"
    }
   ],
   "source": [
    "items_dataset.columns"
   ]
  },
  {
   "cell_type": "code",
   "execution_count": 943,
   "id": "0eac4c83",
   "metadata": {},
   "outputs": [
    {
     "data": {
      "text/plain": [
       "index                  0\n",
       "order_id               0\n",
       "order_item_id          0\n",
       "product_id             0\n",
       "seller_id              0\n",
       "shipping_limit_date    0\n",
       "price                  0\n",
       "freight_value          0\n",
       "dtype: int64"
      ]
     },
     "execution_count": 943,
     "metadata": {},
     "output_type": "execute_result"
    }
   ],
   "source": [
    "items_dataset.isna().sum()"
   ]
  },
  {
   "cell_type": "markdown",
   "id": "86a62574",
   "metadata": {},
   "source": [
    "All column have no null value. Order_id can be double because of one order_id more than one order_item_id, product_id, seller_id. "
   ]
  },
  {
   "cell_type": "code",
   "execution_count": 22,
   "id": "da223b06",
   "metadata": {},
   "outputs": [
    {
     "data": {
      "text/plain": [
       "<AxesSubplot:xlabel='price', ylabel='Density'>"
      ]
     },
     "execution_count": 22,
     "metadata": {},
     "output_type": "execute_result"
    },
    {
     "data": {
      "image/png": "[encoded data removed]",
      "text/plain": [
       "<Figure size 432x288 with 1 Axes>"
      ]
     },
     "metadata": {
      "needs_background": "light"
     },
     "output_type": "display_data"
    }
   ],
   "source": [
    "#Distribution of Price of Item\n",
    "sns.kdeplot(items_dataset['price'],cut=0,clip=(0,1000))"
   ]
  },
  {
   "cell_type": "markdown",
   "id": "e241d3e7",
   "metadata": {},
   "source": [
    "Most of Item Price is below 200 USD"
   ]
  },
  {
   "cell_type": "code",
   "execution_count": 23,
   "id": "48d4b831",
   "metadata": {},
   "outputs": [
    {
     "name": "stdout",
     "output_type": "stream",
     "text": [
      "<class 'pandas.core.frame.DataFrame'>\n",
      "RangeIndex: 32951 entries, 0 to 32950\n",
      "Data columns (total 10 columns):\n",
      " #   Column                      Non-Null Count  Dtype  \n",
      "---  ------                      --------------  -----  \n",
      " 0   index                       32951 non-null  int64  \n",
      " 1   product_id                  32951 non-null  object \n",
      " 2   product_category_name       32341 non-null  object \n",
      " 3   product_name_lenght         32341 non-null  float64\n",
      " 4   product_description_lenght  32341 non-null  float64\n",
      " 5   product_photos_qty          32341 non-null  float64\n",
      " 6   product_weight_g            32949 non-null  float64\n",
      " 7   product_length_cm           32949 non-null  float64\n",
      " 8   product_height_cm           32949 non-null  float64\n",
      " 9   product_width_cm            32949 non-null  float64\n",
      "dtypes: float64(7), int64(1), object(2)\n",
      "memory usage: 2.5+ MB\n"
     ]
    }
   ],
   "source": [
    "#Check olist_products_dataset\n",
    "product_query='''\n",
    "SELECT\n",
    "    *\n",
    "FROM\n",
    "   olist_products_dataset\n",
    "'''\n",
    "products_dataset=pd.read_sql_query(product_query,conn)\n",
    "products_dataset.info()"
   ]
  },
  {
   "cell_type": "markdown",
   "id": "e1da764e",
   "metadata": {},
   "source": [
    "There are null value on product_category_name, product_name_lenght, product_description_lenght, product_weight_g, product_length_cm, product_height_cm, product_width_cm. product_id must be unique as identifier."
   ]
  },
  {
   "cell_type": "code",
   "execution_count": 24,
   "id": "66156add",
   "metadata": {},
   "outputs": [
    {
     "data": {
      "text/plain": [
       "0"
      ]
     },
     "execution_count": 24,
     "metadata": {},
     "output_type": "execute_result"
    }
   ],
   "source": [
    "products_dataset['product_id'].duplicated().sum()"
   ]
  },
  {
   "cell_type": "markdown",
   "id": "9f802c9d",
   "metadata": {},
   "source": [
    "All data in product_id are unique"
   ]
  },
  {
   "cell_type": "code",
   "execution_count": 25,
   "id": "17148521",
   "metadata": {},
   "outputs": [
    {
     "data": {
      "text/plain": [
       "<AxesSubplot:title={'center':'20 Product Most Listed'}, xlabel='number_of_product', ylabel='product_category'>"
      ]
     },
     "execution_count": 25,
     "metadata": {},
     "output_type": "execute_result"
    },
    {
     "data": {
      "image/png": "[encoded data removed]",
      "text/plain": [
       "<Figure size 576x576 with 1 Axes>"
      ]
     },
     "metadata": {
      "needs_background": "light"
     },
     "output_type": "display_data"
    }
   ],
   "source": [
    "#Check Most Product Listed\n",
    "check_product_query='''\n",
    "SELECT\n",
    "    eng.product_category_name_english AS product_category,\n",
    "    COUNT (prod.product_id) AS number_of_product\n",
    "    \n",
    "FROM\n",
    "   olist_products_dataset prod\n",
    "JOIN\n",
    "    product_category_name_translation eng\n",
    "ON\n",
    "    eng.product_category_name = prod.product_category_name\n",
    "GROUP BY\n",
    "   product_category \n",
    "ORDER BY\n",
    "   number_of_product DESC \n",
    "'''\n",
    "count_products=pd.read_sql_query(check_product_query,conn)\n",
    "fig,ax=plt.subplots(figsize=(8,8))\n",
    "ax.set_title('20 Product Most Listed')\n",
    "count_products_selected=count_products.head(20)\n",
    "sns.barplot(data=count_products_selected, y='product_category',x='number_of_product',ax=ax)"
   ]
  },
  {
   "cell_type": "markdown",
   "id": "33bc6d33",
   "metadata": {},
   "source": [
    "Bed_bath_table are most product that listed in olist"
   ]
  },
  {
   "cell_type": "code",
   "execution_count": 26,
   "id": "a41a9cbd",
   "metadata": {},
   "outputs": [
    {
     "name": "stdout",
     "output_type": "stream",
     "text": [
      "<class 'pandas.core.frame.DataFrame'>\n",
      "RangeIndex: 3095 entries, 0 to 3094\n",
      "Data columns (total 5 columns):\n",
      " #   Column                  Non-Null Count  Dtype \n",
      "---  ------                  --------------  ----- \n",
      " 0   index                   3095 non-null   int64 \n",
      " 1   seller_id               3095 non-null   object\n",
      " 2   seller_zip_code_prefix  3095 non-null   int64 \n",
      " 3   seller_city             3095 non-null   object\n",
      " 4   seller_state            3095 non-null   object\n",
      "dtypes: int64(2), object(3)\n",
      "memory usage: 121.0+ KB\n"
     ]
    }
   ],
   "source": [
    "#Check olist_sellers_dataset\n",
    "seller_query='''\n",
    "SELECT\n",
    "    *\n",
    "FROM\n",
    "   olist_sellers_dataset\n",
    "'''\n",
    "seller_dataset=pd.read_sql_query(seller_query,conn)\n",
    "seller_dataset.info()"
   ]
  },
  {
   "cell_type": "markdown",
   "id": "0bbe5ca8",
   "metadata": {},
   "source": [
    "All column have no null value. Seller_id can't be double because of it's identifier of seller"
   ]
  },
  {
   "cell_type": "code",
   "execution_count": 27,
   "id": "f1cf1ebe",
   "metadata": {},
   "outputs": [
    {
     "data": {
      "text/plain": [
       "0"
      ]
     },
     "execution_count": 27,
     "metadata": {},
     "output_type": "execute_result"
    }
   ],
   "source": [
    "seller_dataset['seller_id'].duplicated().sum()"
   ]
  },
  {
   "cell_type": "markdown",
   "id": "019435a4",
   "metadata": {},
   "source": [
    "There is no duplicated data in seller_id"
   ]
  },
  {
   "cell_type": "code",
   "execution_count": 28,
   "id": "f629df7d",
   "metadata": {},
   "outputs": [
    {
     "data": {
      "text/plain": [
       "<AxesSubplot:xlabel='count', ylabel='seller_city'>"
      ]
     },
     "execution_count": 28,
     "metadata": {},
     "output_type": "execute_result"
    },
    {
     "data": {
      "image/png": "[encoded data removed]",
      "text/plain": [
       "<Figure size 432x288 with 1 Axes>"
      ]
     },
     "metadata": {
      "needs_background": "light"
     },
     "output_type": "display_data"
    }
   ],
   "source": [
    "sns.countplot(y=seller_dataset['seller_city'],order=seller_dataset['seller_city'].value_counts().iloc[:10].index)"
   ]
  },
  {
   "cell_type": "markdown",
   "id": "64d61198",
   "metadata": {},
   "source": [
    "Most of seller is in sao paulo"
   ]
  },
  {
   "cell_type": "code",
   "execution_count": 29,
   "id": "276a0d67",
   "metadata": {},
   "outputs": [
    {
     "name": "stdout",
     "output_type": "stream",
     "text": [
      "<class 'pandas.core.frame.DataFrame'>\n",
      "RangeIndex: 1000163 entries, 0 to 1000162\n",
      "Data columns (total 6 columns):\n",
      " #   Column                       Non-Null Count    Dtype  \n",
      "---  ------                       --------------    -----  \n",
      " 0   index                        1000163 non-null  int64  \n",
      " 1   geolocation_zip_code_prefix  1000163 non-null  int64  \n",
      " 2   geolocation_lat              1000163 non-null  float64\n",
      " 3   geolocation_lng              1000163 non-null  float64\n",
      " 4   geolocation_city             1000163 non-null  object \n",
      " 5   geolocation_state            1000163 non-null  object \n",
      "dtypes: float64(2), int64(2), object(2)\n",
      "memory usage: 45.8+ MB\n"
     ]
    }
   ],
   "source": [
    "#Check olist_geolocation_dataset\n",
    "geo_query='''\n",
    "SELECT\n",
    "    *\n",
    "FROM\n",
    "   olist_geolocation_dataset\n",
    "'''\n",
    "geo_dataset=pd.read_sql_query(geo_query,conn)\n",
    "geo_dataset.info()"
   ]
  },
  {
   "cell_type": "markdown",
   "id": "70e9749b",
   "metadata": {},
   "source": [
    "There is no null value in geolocation dataset"
   ]
  },
  {
   "cell_type": "code",
   "execution_count": 30,
   "id": "69e5527f",
   "metadata": {},
   "outputs": [
    {
     "name": "stdout",
     "output_type": "stream",
     "text": [
      "<class 'pandas.core.frame.DataFrame'>\n",
      "RangeIndex: 71 entries, 0 to 70\n",
      "Data columns (total 3 columns):\n",
      " #   Column                         Non-Null Count  Dtype \n",
      "---  ------                         --------------  ----- \n",
      " 0   index                          71 non-null     int64 \n",
      " 1   product_category_name          71 non-null     object\n",
      " 2   product_category_name_english  71 non-null     object\n",
      "dtypes: int64(1), object(2)\n",
      "memory usage: 1.8+ KB\n"
     ]
    }
   ],
   "source": [
    "#Check product_category_name_translation\n",
    "trans_query='''\n",
    "SELECT\n",
    "    *\n",
    "FROM\n",
    "   product_category_name_translation\n",
    "'''\n",
    "translation_dataset=pd.read_sql_query(trans_query,conn)\n",
    "translation_dataset.info()"
   ]
  },
  {
   "cell_type": "markdown",
   "id": "b639c74e",
   "metadata": {},
   "source": [
    "There is No Null Value in translation dataset"
   ]
  },
  {
   "cell_type": "markdown",
   "id": "f49aa036",
   "metadata": {},
   "source": [
    "# Analysis of Data"
   ]
  },
  {
   "cell_type": "code",
   "execution_count": 922,
   "id": "6b83631d",
   "metadata": {},
   "outputs": [
    {
     "data": {
      "text/html": [
       "<div>\n",
       "<style scoped>\n",
       "    .dataframe tbody tr th:only-of-type {\n",
       "        vertical-align: middle;\n",
       "    }\n",
       "\n",
       "    .dataframe tbody tr th {\n",
       "        vertical-align: top;\n",
       "    }\n",
       "\n",
       "    .dataframe thead th {\n",
       "        text-align: right;\n",
       "    }\n",
       "</style>\n",
       "<table border=\"1\" class=\"dataframe\">\n",
       "  <thead>\n",
       "    <tr style=\"text-align: right;\">\n",
       "      <th></th>\n",
       "      <th>number_of_success_transaction</th>\n",
       "      <th>number_of_customer</th>\n",
       "      <th>items_sold</th>\n",
       "      <th>average_items_per_transaction</th>\n",
       "      <th>transaction_per_customer</th>\n",
       "    </tr>\n",
       "    <tr>\n",
       "      <th>month_year</th>\n",
       "      <th></th>\n",
       "      <th></th>\n",
       "      <th></th>\n",
       "      <th></th>\n",
       "      <th></th>\n",
       "    </tr>\n",
       "  </thead>\n",
       "  <tbody>\n",
       "    <tr>\n",
       "      <th>2017-01-01</th>\n",
       "      <td>748</td>\n",
       "      <td>716</td>\n",
       "      <td>911</td>\n",
       "      <td>1.217914</td>\n",
       "      <td>1.044693</td>\n",
       "    </tr>\n",
       "    <tr>\n",
       "      <th>2017-02-01</th>\n",
       "      <td>1641</td>\n",
       "      <td>1618</td>\n",
       "      <td>1845</td>\n",
       "      <td>1.124314</td>\n",
       "      <td>1.014215</td>\n",
       "    </tr>\n",
       "    <tr>\n",
       "      <th>2017-03-01</th>\n",
       "      <td>2546</td>\n",
       "      <td>2508</td>\n",
       "      <td>2897</td>\n",
       "      <td>1.137863</td>\n",
       "      <td>1.015152</td>\n",
       "    </tr>\n",
       "    <tr>\n",
       "      <th>2017-04-01</th>\n",
       "      <td>2303</td>\n",
       "      <td>2274</td>\n",
       "      <td>2569</td>\n",
       "      <td>1.115502</td>\n",
       "      <td>1.012753</td>\n",
       "    </tr>\n",
       "    <tr>\n",
       "      <th>2017-05-01</th>\n",
       "      <td>3545</td>\n",
       "      <td>3478</td>\n",
       "      <td>4003</td>\n",
       "      <td>1.129196</td>\n",
       "      <td>1.019264</td>\n",
       "    </tr>\n",
       "    <tr>\n",
       "      <th>2017-06-01</th>\n",
       "      <td>3135</td>\n",
       "      <td>3076</td>\n",
       "      <td>3489</td>\n",
       "      <td>1.112919</td>\n",
       "      <td>1.019181</td>\n",
       "    </tr>\n",
       "    <tr>\n",
       "      <th>2017-07-01</th>\n",
       "      <td>3872</td>\n",
       "      <td>3802</td>\n",
       "      <td>4416</td>\n",
       "      <td>1.140496</td>\n",
       "      <td>1.018411</td>\n",
       "    </tr>\n",
       "    <tr>\n",
       "      <th>2017-08-01</th>\n",
       "      <td>4193</td>\n",
       "      <td>4114</td>\n",
       "      <td>4797</td>\n",
       "      <td>1.144050</td>\n",
       "      <td>1.019203</td>\n",
       "    </tr>\n",
       "    <tr>\n",
       "      <th>2017-09-01</th>\n",
       "      <td>4149</td>\n",
       "      <td>4082</td>\n",
       "      <td>4736</td>\n",
       "      <td>1.141480</td>\n",
       "      <td>1.016414</td>\n",
       "    </tr>\n",
       "    <tr>\n",
       "      <th>2017-10-01</th>\n",
       "      <td>4478</td>\n",
       "      <td>4417</td>\n",
       "      <td>5214</td>\n",
       "      <td>1.164359</td>\n",
       "      <td>1.013810</td>\n",
       "    </tr>\n",
       "    <tr>\n",
       "      <th>2017-11-01</th>\n",
       "      <td>7288</td>\n",
       "      <td>7182</td>\n",
       "      <td>8474</td>\n",
       "      <td>1.162733</td>\n",
       "      <td>1.014759</td>\n",
       "    </tr>\n",
       "    <tr>\n",
       "      <th>2017-12-01</th>\n",
       "      <td>5513</td>\n",
       "      <td>5450</td>\n",
       "      <td>6187</td>\n",
       "      <td>1.122256</td>\n",
       "      <td>1.011560</td>\n",
       "    </tr>\n",
       "    <tr>\n",
       "      <th>2018-01-01</th>\n",
       "      <td>7069</td>\n",
       "      <td>6974</td>\n",
       "      <td>8037</td>\n",
       "      <td>1.136936</td>\n",
       "      <td>1.013622</td>\n",
       "    </tr>\n",
       "    <tr>\n",
       "      <th>2018-02-01</th>\n",
       "      <td>6555</td>\n",
       "      <td>6400</td>\n",
       "      <td>7518</td>\n",
       "      <td>1.146911</td>\n",
       "      <td>1.024219</td>\n",
       "    </tr>\n",
       "    <tr>\n",
       "      <th>2018-03-01</th>\n",
       "      <td>7003</td>\n",
       "      <td>6914</td>\n",
       "      <td>8017</td>\n",
       "      <td>1.144795</td>\n",
       "      <td>1.012872</td>\n",
       "    </tr>\n",
       "    <tr>\n",
       "      <th>2018-04-01</th>\n",
       "      <td>6798</td>\n",
       "      <td>6744</td>\n",
       "      <td>7827</td>\n",
       "      <td>1.151368</td>\n",
       "      <td>1.008007</td>\n",
       "    </tr>\n",
       "    <tr>\n",
       "      <th>2018-05-01</th>\n",
       "      <td>6749</td>\n",
       "      <td>6693</td>\n",
       "      <td>7810</td>\n",
       "      <td>1.157208</td>\n",
       "      <td>1.008367</td>\n",
       "    </tr>\n",
       "    <tr>\n",
       "      <th>2018-06-01</th>\n",
       "      <td>6096</td>\n",
       "      <td>6058</td>\n",
       "      <td>7007</td>\n",
       "      <td>1.149442</td>\n",
       "      <td>1.006273</td>\n",
       "    </tr>\n",
       "    <tr>\n",
       "      <th>2018-07-01</th>\n",
       "      <td>6156</td>\n",
       "      <td>6097</td>\n",
       "      <td>6960</td>\n",
       "      <td>1.130604</td>\n",
       "      <td>1.009677</td>\n",
       "    </tr>\n",
       "    <tr>\n",
       "      <th>2018-08-01</th>\n",
       "      <td>6351</td>\n",
       "      <td>6310</td>\n",
       "      <td>7142</td>\n",
       "      <td>1.124547</td>\n",
       "      <td>1.006498</td>\n",
       "    </tr>\n",
       "  </tbody>\n",
       "</table>\n",
       "</div>"
      ],
      "text/plain": [
       "            number_of_success_transaction  number_of_customer  items_sold  \\\n",
       "month_year                                                                  \n",
       "2017-01-01                            748                 716         911   \n",
       "2017-02-01                           1641                1618        1845   \n",
       "2017-03-01                           2546                2508        2897   \n",
       "2017-04-01                           2303                2274        2569   \n",
       "2017-05-01                           3545                3478        4003   \n",
       "2017-06-01                           3135                3076        3489   \n",
       "2017-07-01                           3872                3802        4416   \n",
       "2017-08-01                           4193                4114        4797   \n",
       "2017-09-01                           4149                4082        4736   \n",
       "2017-10-01                           4478                4417        5214   \n",
       "2017-11-01                           7288                7182        8474   \n",
       "2017-12-01                           5513                5450        6187   \n",
       "2018-01-01                           7069                6974        8037   \n",
       "2018-02-01                           6555                6400        7518   \n",
       "2018-03-01                           7003                6914        8017   \n",
       "2018-04-01                           6798                6744        7827   \n",
       "2018-05-01                           6749                6693        7810   \n",
       "2018-06-01                           6096                6058        7007   \n",
       "2018-07-01                           6156                6097        6960   \n",
       "2018-08-01                           6351                6310        7142   \n",
       "\n",
       "            average_items_per_transaction  transaction_per_customer  \n",
       "month_year                                                           \n",
       "2017-01-01                       1.217914                  1.044693  \n",
       "2017-02-01                       1.124314                  1.014215  \n",
       "2017-03-01                       1.137863                  1.015152  \n",
       "2017-04-01                       1.115502                  1.012753  \n",
       "2017-05-01                       1.129196                  1.019264  \n",
       "2017-06-01                       1.112919                  1.019181  \n",
       "2017-07-01                       1.140496                  1.018411  \n",
       "2017-08-01                       1.144050                  1.019203  \n",
       "2017-09-01                       1.141480                  1.016414  \n",
       "2017-10-01                       1.164359                  1.013810  \n",
       "2017-11-01                       1.162733                  1.014759  \n",
       "2017-12-01                       1.122256                  1.011560  \n",
       "2018-01-01                       1.136936                  1.013622  \n",
       "2018-02-01                       1.146911                  1.024219  \n",
       "2018-03-01                       1.144795                  1.012872  \n",
       "2018-04-01                       1.151368                  1.008007  \n",
       "2018-05-01                       1.157208                  1.008367  \n",
       "2018-06-01                       1.149442                  1.006273  \n",
       "2018-07-01                       1.130604                  1.009677  \n",
       "2018-08-01                       1.124547                  1.006498  "
      ]
     },
     "execution_count": 922,
     "metadata": {},
     "output_type": "execute_result"
    }
   ],
   "source": [
    "ana_order_query='''\n",
    "WITH order_table AS (\n",
    "SELECT \n",
    "    ord.customer_id,\n",
    "    ord.order_id,\n",
    "    strftime('%Y%m',ord.order_purchase_timestamp) AS month_year,\n",
    "    COUNT(item.product_id) AS items_per_transaction\n",
    "FROM\n",
    "    olist_order_dataset ord\n",
    "JOIN\n",
    "    olist_order_items_dataset item\n",
    "ON \n",
    "    item.order_id = ord.order_id \n",
    "WHERE\n",
    "    ord.order_approved_at IS NOT NULL AND\n",
    "    ord.order_delivered_carrier_date IS NOT NULL AND\n",
    "    ord.order_delivered_customer_date IS NOT NULL AND\n",
    "    ord.order_status = 'delivered'\n",
    "GROUP BY\n",
    "    ord.order_id\n",
    "),\n",
    "order_product_customer AS(\n",
    "SELECT\n",
    "    cus.customer_unique_id,\n",
    "    ot.order_id,\n",
    "    ot.month_year,\n",
    "    ot.items_per_transaction    \n",
    "FROM \n",
    "    order_table ot\n",
    "JOIN \n",
    "    olist_order_customer_dataset cus\n",
    "ON\n",
    "    ot.customer_id = cus.customer_id\n",
    ")\n",
    "SELECT\n",
    "    month_year,\n",
    "    COUNT(order_id) AS number_of_success_transaction,\n",
    "    COUNT(DISTINCT customer_unique_id) AS number_of_customer,\n",
    "    SUM(items_per_transaction) AS items_sold,\n",
    "    AVG(items_per_transaction) AS average_items_per_transaction\n",
    "FROM\n",
    "    order_product_customer\n",
    "GROUP BY\n",
    "    month_year\n",
    ";\n",
    "'''\n",
    "order_table=pd.read_sql_query(ana_order_query,conn)\n",
    "order_table['month_year']=pd.to_datetime(order_table['month_year'],format=('%Y%m'))\n",
    "order_table\n",
    "\n",
    "#Cleaning data when monthly transaction is only one and to make data continue\n",
    "data = order_table.drop(index=[0,1,2])\n",
    "\n",
    "#Set month as index\n",
    "data=data.set_index('month_year')\n",
    "\n",
    "#Add new metrics\n",
    "data['transaction_per_customer']=data['number_of_success_transaction'] / data['number_of_customer']\n",
    "data"
   ]
  },
  {
   "cell_type": "code",
   "execution_count": 971,
   "id": "2a138e3c",
   "metadata": {},
   "outputs": [
    {
     "data": {
      "text/html": [
       "<div>\n",
       "<style scoped>\n",
       "    .dataframe tbody tr th:only-of-type {\n",
       "        vertical-align: middle;\n",
       "    }\n",
       "\n",
       "    .dataframe tbody tr th {\n",
       "        vertical-align: top;\n",
       "    }\n",
       "\n",
       "    .dataframe thead th {\n",
       "        text-align: right;\n",
       "    }\n",
       "</style>\n",
       "<table border=\"1\" class=\"dataframe\">\n",
       "  <thead>\n",
       "    <tr style=\"text-align: right;\">\n",
       "      <th></th>\n",
       "      <th>month_year</th>\n",
       "      <th>number_of_success_transaction</th>\n",
       "      <th>number_of_customer</th>\n",
       "      <th>items_sold</th>\n",
       "      <th>average_items_per_transaction</th>\n",
       "    </tr>\n",
       "  </thead>\n",
       "  <tbody>\n",
       "    <tr>\n",
       "      <th>0</th>\n",
       "      <td>2016-09-01</td>\n",
       "      <td>1</td>\n",
       "      <td>1</td>\n",
       "      <td>3</td>\n",
       "      <td>3.000000</td>\n",
       "    </tr>\n",
       "    <tr>\n",
       "      <th>1</th>\n",
       "      <td>2016-10-01</td>\n",
       "      <td>265</td>\n",
       "      <td>262</td>\n",
       "      <td>313</td>\n",
       "      <td>1.181132</td>\n",
       "    </tr>\n",
       "    <tr>\n",
       "      <th>2</th>\n",
       "      <td>2016-12-01</td>\n",
       "      <td>1</td>\n",
       "      <td>1</td>\n",
       "      <td>1</td>\n",
       "      <td>1.000000</td>\n",
       "    </tr>\n",
       "    <tr>\n",
       "      <th>3</th>\n",
       "      <td>2017-01-01</td>\n",
       "      <td>748</td>\n",
       "      <td>716</td>\n",
       "      <td>911</td>\n",
       "      <td>1.217914</td>\n",
       "    </tr>\n",
       "    <tr>\n",
       "      <th>4</th>\n",
       "      <td>2017-02-01</td>\n",
       "      <td>1641</td>\n",
       "      <td>1618</td>\n",
       "      <td>1845</td>\n",
       "      <td>1.124314</td>\n",
       "    </tr>\n",
       "    <tr>\n",
       "      <th>5</th>\n",
       "      <td>2017-03-01</td>\n",
       "      <td>2546</td>\n",
       "      <td>2508</td>\n",
       "      <td>2897</td>\n",
       "      <td>1.137863</td>\n",
       "    </tr>\n",
       "    <tr>\n",
       "      <th>6</th>\n",
       "      <td>2017-04-01</td>\n",
       "      <td>2303</td>\n",
       "      <td>2274</td>\n",
       "      <td>2569</td>\n",
       "      <td>1.115502</td>\n",
       "    </tr>\n",
       "    <tr>\n",
       "      <th>7</th>\n",
       "      <td>2017-05-01</td>\n",
       "      <td>3545</td>\n",
       "      <td>3478</td>\n",
       "      <td>4003</td>\n",
       "      <td>1.129196</td>\n",
       "    </tr>\n",
       "    <tr>\n",
       "      <th>8</th>\n",
       "      <td>2017-06-01</td>\n",
       "      <td>3135</td>\n",
       "      <td>3076</td>\n",
       "      <td>3489</td>\n",
       "      <td>1.112919</td>\n",
       "    </tr>\n",
       "    <tr>\n",
       "      <th>9</th>\n",
       "      <td>2017-07-01</td>\n",
       "      <td>3872</td>\n",
       "      <td>3802</td>\n",
       "      <td>4416</td>\n",
       "      <td>1.140496</td>\n",
       "    </tr>\n",
       "    <tr>\n",
       "      <th>10</th>\n",
       "      <td>2017-08-01</td>\n",
       "      <td>4193</td>\n",
       "      <td>4114</td>\n",
       "      <td>4797</td>\n",
       "      <td>1.144050</td>\n",
       "    </tr>\n",
       "    <tr>\n",
       "      <th>11</th>\n",
       "      <td>2017-09-01</td>\n",
       "      <td>4149</td>\n",
       "      <td>4082</td>\n",
       "      <td>4736</td>\n",
       "      <td>1.141480</td>\n",
       "    </tr>\n",
       "    <tr>\n",
       "      <th>12</th>\n",
       "      <td>2017-10-01</td>\n",
       "      <td>4478</td>\n",
       "      <td>4417</td>\n",
       "      <td>5214</td>\n",
       "      <td>1.164359</td>\n",
       "    </tr>\n",
       "    <tr>\n",
       "      <th>13</th>\n",
       "      <td>2017-11-01</td>\n",
       "      <td>7288</td>\n",
       "      <td>7182</td>\n",
       "      <td>8474</td>\n",
       "      <td>1.162733</td>\n",
       "    </tr>\n",
       "    <tr>\n",
       "      <th>14</th>\n",
       "      <td>2017-12-01</td>\n",
       "      <td>5513</td>\n",
       "      <td>5450</td>\n",
       "      <td>6187</td>\n",
       "      <td>1.122256</td>\n",
       "    </tr>\n",
       "    <tr>\n",
       "      <th>15</th>\n",
       "      <td>2018-01-01</td>\n",
       "      <td>7069</td>\n",
       "      <td>6974</td>\n",
       "      <td>8037</td>\n",
       "      <td>1.136936</td>\n",
       "    </tr>\n",
       "    <tr>\n",
       "      <th>16</th>\n",
       "      <td>2018-02-01</td>\n",
       "      <td>6555</td>\n",
       "      <td>6400</td>\n",
       "      <td>7518</td>\n",
       "      <td>1.146911</td>\n",
       "    </tr>\n",
       "    <tr>\n",
       "      <th>17</th>\n",
       "      <td>2018-03-01</td>\n",
       "      <td>7003</td>\n",
       "      <td>6914</td>\n",
       "      <td>8017</td>\n",
       "      <td>1.144795</td>\n",
       "    </tr>\n",
       "    <tr>\n",
       "      <th>18</th>\n",
       "      <td>2018-04-01</td>\n",
       "      <td>6798</td>\n",
       "      <td>6744</td>\n",
       "      <td>7827</td>\n",
       "      <td>1.151368</td>\n",
       "    </tr>\n",
       "    <tr>\n",
       "      <th>19</th>\n",
       "      <td>2018-05-01</td>\n",
       "      <td>6749</td>\n",
       "      <td>6693</td>\n",
       "      <td>7810</td>\n",
       "      <td>1.157208</td>\n",
       "    </tr>\n",
       "    <tr>\n",
       "      <th>20</th>\n",
       "      <td>2018-06-01</td>\n",
       "      <td>6096</td>\n",
       "      <td>6058</td>\n",
       "      <td>7007</td>\n",
       "      <td>1.149442</td>\n",
       "    </tr>\n",
       "    <tr>\n",
       "      <th>21</th>\n",
       "      <td>2018-07-01</td>\n",
       "      <td>6156</td>\n",
       "      <td>6097</td>\n",
       "      <td>6960</td>\n",
       "      <td>1.130604</td>\n",
       "    </tr>\n",
       "    <tr>\n",
       "      <th>22</th>\n",
       "      <td>2018-08-01</td>\n",
       "      <td>6351</td>\n",
       "      <td>6310</td>\n",
       "      <td>7142</td>\n",
       "      <td>1.124547</td>\n",
       "    </tr>\n",
       "  </tbody>\n",
       "</table>\n",
       "</div>"
      ],
      "text/plain": [
       "   month_year  number_of_success_transaction  number_of_customer  items_sold  \\\n",
       "0  2016-09-01                              1                   1           3   \n",
       "1  2016-10-01                            265                 262         313   \n",
       "2  2016-12-01                              1                   1           1   \n",
       "3  2017-01-01                            748                 716         911   \n",
       "4  2017-02-01                           1641                1618        1845   \n",
       "5  2017-03-01                           2546                2508        2897   \n",
       "6  2017-04-01                           2303                2274        2569   \n",
       "7  2017-05-01                           3545                3478        4003   \n",
       "8  2017-06-01                           3135                3076        3489   \n",
       "9  2017-07-01                           3872                3802        4416   \n",
       "10 2017-08-01                           4193                4114        4797   \n",
       "11 2017-09-01                           4149                4082        4736   \n",
       "12 2017-10-01                           4478                4417        5214   \n",
       "13 2017-11-01                           7288                7182        8474   \n",
       "14 2017-12-01                           5513                5450        6187   \n",
       "15 2018-01-01                           7069                6974        8037   \n",
       "16 2018-02-01                           6555                6400        7518   \n",
       "17 2018-03-01                           7003                6914        8017   \n",
       "18 2018-04-01                           6798                6744        7827   \n",
       "19 2018-05-01                           6749                6693        7810   \n",
       "20 2018-06-01                           6096                6058        7007   \n",
       "21 2018-07-01                           6156                6097        6960   \n",
       "22 2018-08-01                           6351                6310        7142   \n",
       "\n",
       "    average_items_per_transaction  \n",
       "0                        3.000000  \n",
       "1                        1.181132  \n",
       "2                        1.000000  \n",
       "3                        1.217914  \n",
       "4                        1.124314  \n",
       "5                        1.137863  \n",
       "6                        1.115502  \n",
       "7                        1.129196  \n",
       "8                        1.112919  \n",
       "9                        1.140496  \n",
       "10                       1.144050  \n",
       "11                       1.141480  \n",
       "12                       1.164359  \n",
       "13                       1.162733  \n",
       "14                       1.122256  \n",
       "15                       1.136936  \n",
       "16                       1.146911  \n",
       "17                       1.144795  \n",
       "18                       1.151368  \n",
       "19                       1.157208  \n",
       "20                       1.149442  \n",
       "21                       1.130604  \n",
       "22                       1.124547  "
      ]
     },
     "execution_count": 971,
     "metadata": {},
     "output_type": "execute_result"
    }
   ],
   "source": [
    "order_table"
   ]
  },
  {
   "cell_type": "markdown",
   "id": "5b2c6662",
   "metadata": {},
   "source": [
    "# Olist Monthly Performance"
   ]
  },
  {
   "cell_type": "markdown",
   "id": "9fcefb03",
   "metadata": {},
   "source": [
    "### Number of Product Sold, Success Transaction, Customer, Transaction per Customer, and Product per Transaction"
   ]
  },
  {
   "cell_type": "markdown",
   "id": "f9c98cb7",
   "metadata": {},
   "source": [
    "1. Bagaimana trend jumlah transaksi, produk terjual, dan customer yang melakukan transaksi?\n",
    "2. Bagaimana trend perilaku dari customer dilihat dari jumlah transaksi yang dilakukan dalam sebulan dan jumlah produk yang dibeli dalam satu kali transaksi?"
   ]
  },
  {
   "cell_type": "code",
   "execution_count": 923,
   "id": "7fa77c87",
   "metadata": {
    "scrolled": true
   },
   "outputs": [
    {
     "data": {
      "text/plain": [
       "<matplotlib.patches.Polygon at 0x7fe2584a0730>"
      ]
     },
     "execution_count": 923,
     "metadata": {},
     "output_type": "execute_result"
    },
    {
     "data": {
      "image/png": "[encoded data removed]",
      "text/plain": [
       "<Figure size 1080x720 with 2 Axes>"
      ]
     },
     "metadata": {
      "needs_background": "light"
     },
     "output_type": "display_data"
    }
   ],
   "source": [
    "#Define axis\n",
    "product_sold=data['items_sold']\n",
    "avg=data['average_items_per_transaction']\n",
    "transaction=data['number_of_success_transaction']\n",
    "customer=data['number_of_customer']\n",
    "trans_per_cus=data['transaction_per_customer']\n",
    "\n",
    "#Create plot using matplotlib\n",
    "fig,(ax1,ax2)=plt.subplots(nrows=2,ncols=1)\n",
    "fig.autofmt_xdate(rotation=45)\n",
    "fig.set_figheight(10)\n",
    "fig.set_figwidth(15)\n",
    "plt.subplots_adjust(top = 0.99, bottom=0.01, hspace=0.2, wspace=0.01)\n",
    "ax1.plot(product_sold,label='items_sold',marker='*',color='k',)\n",
    "ax1.plot(customer,label='number_of_customer',linestyle='-',marker='o')\n",
    "ax1.plot(transaction,label='number_of_success_transaction',linestyle='--',marker='.')\n",
    "ax1.legend()\n",
    "ax1.set_title('Items Sold, Number of Customer, and Success Transaction Monthly Trend')\n",
    "ax1.axhspan(-10,9000,xmin=0,xmax=0.045, facecolor='r', alpha=0.2,zorder=3)\n",
    "ax1.axhspan(-10,9000,xmin=0.045,xmax=0.525, facecolor='g', alpha=0.1,zorder=3)\n",
    "ax1.axhspan(-10,9000,xmin=0.525,xmax=1, facecolor='y', alpha=0.1,zorder=3)\n",
    "ax2.plot(avg,label='average_items_per_transaction',marker='.',color='b')\n",
    "ax2.plot(trans_per_cus,label='transaction_per_customer',marker='*',color='r')\n",
    "ax2.legend()\n",
    "ax2.set_title('Transaction per Customer and Average Items Sold per Transaction Monthly Trend')\n",
    "ax2.axhspan(0.98,1.25,xmin=0,xmax=0.045, facecolor='r', alpha=0.2,zorder=3)\n",
    "ax2.axhspan(0.98,1.25,xmin=0.045,xmax=0.525, facecolor='g', alpha=0.1,zorder=3)\n",
    "ax2.axhspan(0.98,1.25,xmin=0.525,xmax=1, facecolor='y', alpha=0.1,zorder=3)\n"
   ]
  },
  {
   "cell_type": "markdown",
   "id": "0688b27c",
   "metadata": {},
   "source": [
    "*There are 3 product life cycle stages in olist:\n",
    "1. Introduction Stage (October 2016 - January 2017)\n",
    "2. Growth Stage (January 2017 - November 2017)\n",
    "3. Maturity Stage (November 2017 - July 2018)\n",
    "\n",
    "*Intoduction Stage\n",
    "Jumlah transaksi, customer, dan product terjual masih rendah. Akan tetapi apabila dilihat dari transaction behaviournya, ada kenaikan frekuensi transaksi per customer dan jumlah produk yang dipesan yang relatif tinggi.\n",
    "\n",
    "*Growth Stage\n",
    "Pada tahap ini, terjadi kenaikan jumlah customer diikuti dengan kenaikan transaksi dan product yang terjual. Apabila melihat stagnansi pada pada customer transaction behaviournya, growth dari transaksi dan product sold diduga dipengaruhi oleh kenaikan jumlah customer.\n",
    "\n",
    "*Maturity Stage\n",
    "Pada tahap ini terjadi stagnansi jumlah customer. Apabila melihat dari behaviournya, stagnansi jumlah customer mempengaruhi stagnansi produk terjual dan jumlah transaksi."
   ]
  },
  {
   "cell_type": "code",
   "execution_count": 974,
   "id": "0a5dab88",
   "metadata": {},
   "outputs": [
    {
     "data": {
      "text/plain": [
       "<AxesSubplot:xlabel='month_year'>"
      ]
     },
     "execution_count": 974,
     "metadata": {},
     "output_type": "execute_result"
    },
    {
     "data": {
      "image/png": "[encoded data removed]",
      "text/plain": [
       "<Figure size 1080x720 with 3 Axes>"
      ]
     },
     "metadata": {
      "needs_background": "light"
     },
     "output_type": "display_data"
    }
   ],
   "source": [
    "fig,(ax4,ax5,ax6)=plt.subplots(nrows=3,ncols=1,figsize=(15,10))\n",
    "fig.suptitle('Seasonality of Items Sold, Number of Customer, and Success Transaction ',fontsize=20)\n",
    "transaction_trend=data[['number_of_success_transaction']]\n",
    "seasonality=transaction_trend.diff()\n",
    "seasonality.plot(linewidth=1,fontsize=12,ax=ax4,color='r')\n",
    "product_sold_trend=data[['items_sold']]\n",
    "seasonality_produc_sold=product_sold_trend.diff()\n",
    "seasonality_produc_sold.plot(linewidth=1,fontsize=12,ax=ax5,color='k')\n",
    "customer_trend=data[['number_of_customer']]\n",
    "seasonality_customer=customer_trend.diff()\n",
    "seasonality_customer.plot(linewidth=1,fontsize=12,ax=ax6,color='b')"
   ]
  },
  {
   "cell_type": "code",
   "execution_count": 991,
   "id": "131be680",
   "metadata": {},
   "outputs": [
    {
     "name": "stdout",
     "output_type": "stream",
     "text": [
      "Pada bulan november, transaksi tumbuh sebesar 0.62751228226887, jumlah customer tumbuh sebesar 0.6259904912836767, dan produk terjual tumbuh sebsar 0.6252397391637898\n",
      "Pada bulan desember, transaksi tumbuh sebesar -0.2435510428100988, jumlah customer tumbuh sebesar -0.24115845168476746, dan produk terjual tumbuh sebsar -0.26988435213594525\n"
     ]
    }
   ],
   "source": [
    "transaction_growth_november=seasonality['number_of_success_transaction']['2017-11-01']/data['number_of_success_transaction']['2017-10-01']\n",
    "customer_growth_november=seasonality_customer['number_of_customer']['2017-11-01']/data['number_of_customer']['2017-10-01']\n",
    "item_growth_november=seasonality_produc_sold['items_sold']['2017-11-01']/data['items_sold']['2017-10-01']\n",
    "transaction_growth_des=seasonality['number_of_success_transaction']['2017-12-01']/data['number_of_success_transaction']['2017-11-01']\n",
    "customer_growth_des=seasonality_customer['number_of_customer']['2017-12-01']/data['number_of_customer']['2017-11-01']\n",
    "item_growth_des=seasonality_produc_sold['items_sold']['2017-12-01']/data['items_sold']['2017-11-01']\n",
    "\n",
    "print(f'Pada bulan november, transaksi tumbuh sebesar {transaction_growth_november}, jumlah customer tumbuh sebesar {customer_growth_november}, dan produk terjual tumbuh sebsar {item_growth_november}')\n",
    "print(f'Pada bulan desember, transaksi tumbuh sebesar {transaction_growth_des}, jumlah customer tumbuh sebesar {customer_growth_des}, dan produk terjual tumbuh sebsar {item_growth_des}')\n",
    "\n"
   ]
  },
  {
   "cell_type": "markdown",
   "id": "7d43a2eb",
   "metadata": {},
   "source": [
    "There are no seasonality in trend of transaction, product sold, active customer. The best performance of them are in November 2017. The worst performance of them is in November 2017."
   ]
  },
  {
   "cell_type": "markdown",
   "id": "d61aea18",
   "metadata": {},
   "source": [
    "#### Total Transaction Per Customer"
   ]
  },
  {
   "cell_type": "markdown",
   "id": "0d363ae9",
   "metadata": {},
   "source": [
    "3. Berapa proporsi customer yang melakukan lebih dari 1 kali?"
   ]
  },
  {
   "cell_type": "code",
   "execution_count": 995,
   "id": "6c589b3d",
   "metadata": {},
   "outputs": [
    {
     "data": {
      "text/plain": [
       "[<matplotlib.axis.XTick at 0x7fe266707700>,\n",
       " <matplotlib.axis.XTick at 0x7fe266707640>,\n",
       " <matplotlib.axis.XTick at 0x7fe26510d640>,\n",
       " <matplotlib.axis.XTick at 0x7fe265c63310>,\n",
       " <matplotlib.axis.XTick at 0x7fe271c24d60>,\n",
       " <matplotlib.axis.XTick at 0x7fe265131b50>,\n",
       " <matplotlib.axis.XTick at 0x7fe271c242e0>,\n",
       " <matplotlib.axis.XTick at 0x7fe265125340>,\n",
       " <matplotlib.axis.XTick at 0x7fe261d59130>,\n",
       " <matplotlib.axis.XTick at 0x7fe266b5fd30>,\n",
       " <matplotlib.axis.XTick at 0x7fe2651bb250>,\n",
       " <matplotlib.axis.XTick at 0x7fe266ce1cd0>,\n",
       " <matplotlib.axis.XTick at 0x7fe266ce1580>,\n",
       " <matplotlib.axis.XTick at 0x7fe2669b1970>,\n",
       " <matplotlib.axis.XTick at 0x7fe266ce1370>]"
      ]
     },
     "execution_count": 995,
     "metadata": {},
     "output_type": "execute_result"
    },
    {
     "data": {
      "image/png": "[encoded data removed]",
      "text/plain": [
       "<Figure size 504x504 with 1 Axes>"
      ]
     },
     "metadata": {
      "needs_background": "light"
     },
     "output_type": "display_data"
    }
   ],
   "source": [
    "cust_query='''\n",
    "SELECT \n",
    "    cus.customer_unique_id,\n",
    "    COUNT(ord.order_id) AS total_transaction\n",
    "FROM \n",
    "   olist_order_dataset ord\n",
    "JOIN\n",
    "    olist_order_customer_dataset cus\n",
    "ON \n",
    "    cus.customer_id = ord.customer_id\n",
    "WHERE\n",
    "    ord.order_approved_at IS NOT NULL AND\n",
    "    ord.order_delivered_carrier_date IS NOT NULL AND\n",
    "    ord.order_delivered_customer_date IS NOT NULL AND\n",
    "    ord.order_status = 'delivered'\n",
    "GROUP BY\n",
    "    cus.customer_unique_id\n",
    "\n",
    "'''\n",
    "cust=pd.read_sql_query(cust_query,conn)\n",
    "\n",
    "f,ax= plt.subplots()\n",
    "f.set_figheight(7)\n",
    "f.set_figwidth(7)\n",
    "f.suptitle('Kernel Density Plot Jumlah Transaksi per Customer Selama Observasi',fontsize=15)\n",
    "sns.kdeplot(cust['total_transaction'],ax=ax,cumulative=True)\n",
    "ax.set_xticks(range(cust['total_transaction'].min(),cust['total_transaction'].max()+1,1))"
   ]
  },
  {
   "cell_type": "markdown",
   "id": "8c021d19",
   "metadata": {},
   "source": [
    "Hanya 3.12 % customer yang melakukan transaksi lebih dari 1x. Maka dari itu loyalty dari customer harus ditingkatkan agar transaksi dan produk terjual tetap tumbuh."
   ]
  },
  {
   "cell_type": "code",
   "execution_count": 953,
   "id": "7d5ee30f",
   "metadata": {},
   "outputs": [],
   "source": [
    "repeat_order_table=city_customer_dataset.join(city_repeat_order)\n",
    "repeat_order_table['repeat_order_customer_percentage']=0\n",
    "for city in repeat_order_table.index:\n",
    "    repeat_order_table.loc[city,'repeat_order_customer_percentage']=repeat_order_table.loc[city,'number_of_repeat_order_customer']*100.00/repeat_order_table.loc[city,'number_of_customer']\n",
    "    \n"
   ]
  },
  {
   "cell_type": "code",
   "execution_count": 1099,
   "id": "a100608a",
   "metadata": {},
   "outputs": [
    {
     "data": {
      "text/plain": [
       "<AxesSubplot:title={'center':'Percentage of Customer that Repeat Order'}, xlabel='repeat_order_customer_percentage', ylabel='customer_city'>"
      ]
     },
     "execution_count": 1099,
     "metadata": {},
     "output_type": "execute_result"
    },
    {
     "data": {
      "image/png": "[encoded data removed]",
      "text/plain": [
       "<Figure size 576x576 with 1 Axes>"
      ]
     },
     "metadata": {
      "needs_background": "light"
     },
     "output_type": "display_data"
    }
   ],
   "source": [
    "big_10_ro=repeat_order_table.sort_values('number_of_customer',ascending=False).head(10)\n",
    "big_10_ro=big_10_ro.sort_values('repeat_order_customer_percentage',ascending=False)\n",
    "fig,ax=plt.subplots(figsize=(8,8))\n",
    "ax.set_title('Percentage of Customer that Repeat Order')\n",
    "sns.barplot(data=big_10_ro,y=big_10_ro.index,x=big_10_ro['repeat_order_customer_percentage'])"
   ]
  },
  {
   "cell_type": "markdown",
   "id": "07b1060b",
   "metadata": {},
   "source": [
    "## Check Trend Transaction in Each City"
   ]
  },
  {
   "cell_type": "markdown",
   "id": "9a697f3c",
   "metadata": {},
   "source": [
    "4. Kota manakah yang trend pertumbuhan transaksinya tetap positif hingga akhir?"
   ]
  },
  {
   "cell_type": "code",
   "execution_count": 152,
   "id": "b46090fa",
   "metadata": {},
   "outputs": [],
   "source": [
    "q2='''\n",
    "SELECT \n",
    "    customer_city AS name_of_city,\n",
    "    (COUNT(customer_unique_id)*100.000)/(\n",
    "            SELECT \n",
    "                COUNT(customer_unique_id) \n",
    "            FROM olist_order_customer_dataset\n",
    "            ) \n",
    "        AS percentage_of_customer\n",
    "FROM\n",
    "    olist_order_customer_dataset \n",
    "GROUP BY\n",
    "    customer_city\n",
    "ORDER BY\n",
    "   percentage_of_customer DESC\n",
    "'''"
   ]
  },
  {
   "cell_type": "code",
   "execution_count": 153,
   "id": "acf2ef83",
   "metadata": {
    "scrolled": true
   },
   "outputs": [
    {
     "data": {
      "text/plain": [
       "<AxesSubplot:title={'center':'10 City with Most Customer'}, xlabel='percentage_of_customer', ylabel='name_of_city'>"
      ]
     },
     "execution_count": 153,
     "metadata": {},
     "output_type": "execute_result"
    },
    {
     "data": {
      "image/png": "[encoded data removed]",
      "text/plain": [
       "<Figure size 576x288 with 1 Axes>"
      ]
     },
     "metadata": {
      "needs_background": "light"
     },
     "output_type": "display_data"
    }
   ],
   "source": [
    "customer=pd.read_sql_query(q2,conn)\n",
    "fig,axo=plt.subplots(figsize=(8,4))\n",
    "axo.set_title('10 City with Most Customer')\n",
    "customer_selected=customer.head(10)\n",
    "customer_selected\n",
    "sns.barplot(data=customer_selected, y='name_of_city',x='percentage_of_customer',ax=axo)"
   ]
  },
  {
   "cell_type": "markdown",
   "id": "1a6650f7",
   "metadata": {},
   "source": [
    "### Transaction Trend From Top 10 City with Most Costumer"
   ]
  },
  {
   "cell_type": "code",
   "execution_count": 962,
   "id": "514372a8",
   "metadata": {},
   "outputs": [],
   "source": [
    "q3='''\n",
    "SELECT \n",
    "    cust.customer_city,\n",
    "    COUNT(ord.customer_id) AS transaction_per_region_per_month,\n",
    "    strftime('%Y-%m-%d',ord.order_purchase_timestamp) AS time\n",
    "FROM\n",
    "   olist_order_dataset ord\n",
    "JOIN\n",
    "    olist_order_customer_dataset cust\n",
    "ON\n",
    "    cust.customer_id = ord.customer_id\n",
    "WHERE\n",
    "    ord.order_approved_at IS NOT NULL AND\n",
    "    ord.order_delivered_carrier_date IS NOT NULL AND\n",
    "    ord.order_delivered_customer_date IS NOT NULL AND\n",
    "    ord.order_status = 'delivered'\n",
    "GROUP BY\n",
    "    cust.customer_city, time\n",
    "ORDER BY\n",
    "    time\n",
    "'''\n",
    "list_of_selectedcity=customer_selected['name_of_city'].unique()"
   ]
  },
  {
   "cell_type": "code",
   "execution_count": 961,
   "id": "19d2acc1",
   "metadata": {},
   "outputs": [
    {
     "data": {
      "text/html": [
       "<div>\n",
       "<style scoped>\n",
       "    .dataframe tbody tr th:only-of-type {\n",
       "        vertical-align: middle;\n",
       "    }\n",
       "\n",
       "    .dataframe tbody tr th {\n",
       "        vertical-align: top;\n",
       "    }\n",
       "\n",
       "    .dataframe thead th {\n",
       "        text-align: right;\n",
       "    }\n",
       "</style>\n",
       "<table border=\"1\" class=\"dataframe\">\n",
       "  <thead>\n",
       "    <tr style=\"text-align: right;\">\n",
       "      <th></th>\n",
       "      <th>customer_city</th>\n",
       "      <th>transaction_per_region_per_month</th>\n",
       "      <th>time</th>\n",
       "      <th>month</th>\n",
       "      <th>year</th>\n",
       "    </tr>\n",
       "  </thead>\n",
       "  <tbody>\n",
       "    <tr>\n",
       "      <th>0</th>\n",
       "      <td>sao joaquim da barra</td>\n",
       "      <td>1</td>\n",
       "      <td>2016-09-15</td>\n",
       "      <td>9</td>\n",
       "      <td>2016</td>\n",
       "    </tr>\n",
       "    <tr>\n",
       "      <th>1</th>\n",
       "      <td>hortolandia</td>\n",
       "      <td>1</td>\n",
       "      <td>2016-10-03</td>\n",
       "      <td>10</td>\n",
       "      <td>2016</td>\n",
       "    </tr>\n",
       "    <tr>\n",
       "      <th>2</th>\n",
       "      <td>ipatinga</td>\n",
       "      <td>1</td>\n",
       "      <td>2016-10-03</td>\n",
       "      <td>10</td>\n",
       "      <td>2016</td>\n",
       "    </tr>\n",
       "    <tr>\n",
       "      <th>3</th>\n",
       "      <td>mozarlandia</td>\n",
       "      <td>1</td>\n",
       "      <td>2016-10-03</td>\n",
       "      <td>10</td>\n",
       "      <td>2016</td>\n",
       "    </tr>\n",
       "    <tr>\n",
       "      <th>4</th>\n",
       "      <td>panambi</td>\n",
       "      <td>1</td>\n",
       "      <td>2016-10-03</td>\n",
       "      <td>10</td>\n",
       "      <td>2016</td>\n",
       "    </tr>\n",
       "    <tr>\n",
       "      <th>...</th>\n",
       "      <td>...</td>\n",
       "      <td>...</td>\n",
       "      <td>...</td>\n",
       "      <td>...</td>\n",
       "      <td>...</td>\n",
       "    </tr>\n",
       "    <tr>\n",
       "      <th>58055</th>\n",
       "      <td>salto</td>\n",
       "      <td>1</td>\n",
       "      <td>2018-08-29</td>\n",
       "      <td>8</td>\n",
       "      <td>2018</td>\n",
       "    </tr>\n",
       "    <tr>\n",
       "      <th>58056</th>\n",
       "      <td>sao bernardo do campo</td>\n",
       "      <td>1</td>\n",
       "      <td>2018-08-29</td>\n",
       "      <td>8</td>\n",
       "      <td>2018</td>\n",
       "    </tr>\n",
       "    <tr>\n",
       "      <th>58057</th>\n",
       "      <td>sao caetano do sul</td>\n",
       "      <td>1</td>\n",
       "      <td>2018-08-29</td>\n",
       "      <td>8</td>\n",
       "      <td>2018</td>\n",
       "    </tr>\n",
       "    <tr>\n",
       "      <th>58058</th>\n",
       "      <td>sao jose dos campos</td>\n",
       "      <td>1</td>\n",
       "      <td>2018-08-29</td>\n",
       "      <td>8</td>\n",
       "      <td>2018</td>\n",
       "    </tr>\n",
       "    <tr>\n",
       "      <th>58059</th>\n",
       "      <td>sao paulo</td>\n",
       "      <td>3</td>\n",
       "      <td>2018-08-29</td>\n",
       "      <td>8</td>\n",
       "      <td>2018</td>\n",
       "    </tr>\n",
       "  </tbody>\n",
       "</table>\n",
       "<p>58060 rows × 5 columns</p>\n",
       "</div>"
      ],
      "text/plain": [
       "               customer_city  transaction_per_region_per_month       time  \\\n",
       "0       sao joaquim da barra                                 1 2016-09-15   \n",
       "1                hortolandia                                 1 2016-10-03   \n",
       "2                   ipatinga                                 1 2016-10-03   \n",
       "3                mozarlandia                                 1 2016-10-03   \n",
       "4                    panambi                                 1 2016-10-03   \n",
       "...                      ...                               ...        ...   \n",
       "58055                  salto                                 1 2018-08-29   \n",
       "58056  sao bernardo do campo                                 1 2018-08-29   \n",
       "58057     sao caetano do sul                                 1 2018-08-29   \n",
       "58058    sao jose dos campos                                 1 2018-08-29   \n",
       "58059              sao paulo                                 3 2018-08-29   \n",
       "\n",
       "       month  year  \n",
       "0          9  2016  \n",
       "1         10  2016  \n",
       "2         10  2016  \n",
       "3         10  2016  \n",
       "4         10  2016  \n",
       "...      ...   ...  \n",
       "58055      8  2018  \n",
       "58056      8  2018  \n",
       "58057      8  2018  \n",
       "58058      8  2018  \n",
       "58059      8  2018  \n",
       "\n",
       "[58060 rows x 5 columns]"
      ]
     },
     "execution_count": 961,
     "metadata": {},
     "output_type": "execute_result"
    }
   ],
   "source": [
    "trend_cust=pd.read_sql_query(q3,conn)\n",
    "trend_cust['time']=pd.to_datetime(trend_cust['time'])\n",
    "trend_cust['month']=pd.DatetimeIndex(trend_cust['time']).month\n",
    "trend_cust['year']=pd.DatetimeIndex(trend_cust['time']).year\n",
    "trend_cust"
   ]
  },
  {
   "cell_type": "code",
   "execution_count": 965,
   "id": "d7728ed0",
   "metadata": {},
   "outputs": [],
   "source": [
    "for i in trend_cust.index:\n",
    "    if trend_cust['year'][i] == 2016 or trend_cust['customer_city'][i] not in list_of_selectedcity:\n",
    "        trend_cust.drop([i],inplace=True)\n",
    "    else :\n",
    "        pass"
   ]
  },
  {
   "cell_type": "code",
   "execution_count": 970,
   "id": "3d5e2dba",
   "metadata": {},
   "outputs": [
    {
     "data": {
      "text/html": [
       "<div>\n",
       "<style scoped>\n",
       "    .dataframe tbody tr th:only-of-type {\n",
       "        vertical-align: middle;\n",
       "    }\n",
       "\n",
       "    .dataframe tbody tr th {\n",
       "        vertical-align: top;\n",
       "    }\n",
       "\n",
       "    .dataframe thead tr th {\n",
       "        text-align: left;\n",
       "    }\n",
       "\n",
       "    .dataframe thead tr:last-of-type th {\n",
       "        text-align: right;\n",
       "    }\n",
       "</style>\n",
       "<table border=\"1\" class=\"dataframe\">\n",
       "  <thead>\n",
       "    <tr>\n",
       "      <th></th>\n",
       "      <th></th>\n",
       "      <th colspan=\"10\" halign=\"left\">transaction_per_region_per_month</th>\n",
       "    </tr>\n",
       "    <tr>\n",
       "      <th></th>\n",
       "      <th>customer_city</th>\n",
       "      <th>belo horizonte</th>\n",
       "      <th>brasilia</th>\n",
       "      <th>campinas</th>\n",
       "      <th>curitiba</th>\n",
       "      <th>guarulhos</th>\n",
       "      <th>porto alegre</th>\n",
       "      <th>rio de janeiro</th>\n",
       "      <th>salvador</th>\n",
       "      <th>sao bernardo do campo</th>\n",
       "      <th>sao paulo</th>\n",
       "    </tr>\n",
       "    <tr>\n",
       "      <th>year</th>\n",
       "      <th>month</th>\n",
       "      <th></th>\n",
       "      <th></th>\n",
       "      <th></th>\n",
       "      <th></th>\n",
       "      <th></th>\n",
       "      <th></th>\n",
       "      <th></th>\n",
       "      <th></th>\n",
       "      <th></th>\n",
       "      <th></th>\n",
       "    </tr>\n",
       "  </thead>\n",
       "  <tbody>\n",
       "    <tr>\n",
       "      <th rowspan=\"12\" valign=\"top\">2017</th>\n",
       "      <th>1</th>\n",
       "      <td>16</td>\n",
       "      <td>13</td>\n",
       "      <td>7</td>\n",
       "      <td>38</td>\n",
       "      <td>6</td>\n",
       "      <td>10</td>\n",
       "      <td>46</td>\n",
       "      <td>6</td>\n",
       "      <td>5</td>\n",
       "      <td>92</td>\n",
       "    </tr>\n",
       "    <tr>\n",
       "      <th>2</th>\n",
       "      <td>35</td>\n",
       "      <td>21</td>\n",
       "      <td>28</td>\n",
       "      <td>28</td>\n",
       "      <td>13</td>\n",
       "      <td>25</td>\n",
       "      <td>128</td>\n",
       "      <td>18</td>\n",
       "      <td>16</td>\n",
       "      <td>212</td>\n",
       "    </tr>\n",
       "    <tr>\n",
       "      <th>3</th>\n",
       "      <td>94</td>\n",
       "      <td>51</td>\n",
       "      <td>27</td>\n",
       "      <td>30</td>\n",
       "      <td>30</td>\n",
       "      <td>40</td>\n",
       "      <td>199</td>\n",
       "      <td>26</td>\n",
       "      <td>19</td>\n",
       "      <td>362</td>\n",
       "    </tr>\n",
       "    <tr>\n",
       "      <th>4</th>\n",
       "      <td>64</td>\n",
       "      <td>34</td>\n",
       "      <td>30</td>\n",
       "      <td>21</td>\n",
       "      <td>35</td>\n",
       "      <td>37</td>\n",
       "      <td>164</td>\n",
       "      <td>29</td>\n",
       "      <td>18</td>\n",
       "      <td>279</td>\n",
       "    </tr>\n",
       "    <tr>\n",
       "      <th>5</th>\n",
       "      <td>79</td>\n",
       "      <td>60</td>\n",
       "      <td>37</td>\n",
       "      <td>51</td>\n",
       "      <td>33</td>\n",
       "      <td>50</td>\n",
       "      <td>263</td>\n",
       "      <td>43</td>\n",
       "      <td>26</td>\n",
       "      <td>501</td>\n",
       "    </tr>\n",
       "    <tr>\n",
       "      <th>6</th>\n",
       "      <td>73</td>\n",
       "      <td>66</td>\n",
       "      <td>46</td>\n",
       "      <td>48</td>\n",
       "      <td>36</td>\n",
       "      <td>55</td>\n",
       "      <td>206</td>\n",
       "      <td>29</td>\n",
       "      <td>33</td>\n",
       "      <td>456</td>\n",
       "    </tr>\n",
       "    <tr>\n",
       "      <th>7</th>\n",
       "      <td>95</td>\n",
       "      <td>73</td>\n",
       "      <td>53</td>\n",
       "      <td>53</td>\n",
       "      <td>47</td>\n",
       "      <td>58</td>\n",
       "      <td>306</td>\n",
       "      <td>54</td>\n",
       "      <td>33</td>\n",
       "      <td>519</td>\n",
       "    </tr>\n",
       "    <tr>\n",
       "      <th>8</th>\n",
       "      <td>99</td>\n",
       "      <td>82</td>\n",
       "      <td>69</td>\n",
       "      <td>53</td>\n",
       "      <td>41</td>\n",
       "      <td>82</td>\n",
       "      <td>292</td>\n",
       "      <td>53</td>\n",
       "      <td>41</td>\n",
       "      <td>619</td>\n",
       "    </tr>\n",
       "    <tr>\n",
       "      <th>9</th>\n",
       "      <td>97</td>\n",
       "      <td>94</td>\n",
       "      <td>70</td>\n",
       "      <td>48</td>\n",
       "      <td>46</td>\n",
       "      <td>68</td>\n",
       "      <td>300</td>\n",
       "      <td>49</td>\n",
       "      <td>37</td>\n",
       "      <td>578</td>\n",
       "    </tr>\n",
       "    <tr>\n",
       "      <th>10</th>\n",
       "      <td>123</td>\n",
       "      <td>92</td>\n",
       "      <td>64</td>\n",
       "      <td>53</td>\n",
       "      <td>54</td>\n",
       "      <td>70</td>\n",
       "      <td>351</td>\n",
       "      <td>53</td>\n",
       "      <td>35</td>\n",
       "      <td>602</td>\n",
       "    </tr>\n",
       "    <tr>\n",
       "      <th>11</th>\n",
       "      <td>212</td>\n",
       "      <td>157</td>\n",
       "      <td>89</td>\n",
       "      <td>129</td>\n",
       "      <td>69</td>\n",
       "      <td>110</td>\n",
       "      <td>556</td>\n",
       "      <td>88</td>\n",
       "      <td>67</td>\n",
       "      <td>1081</td>\n",
       "    </tr>\n",
       "    <tr>\n",
       "      <th>12</th>\n",
       "      <td>173</td>\n",
       "      <td>129</td>\n",
       "      <td>79</td>\n",
       "      <td>80</td>\n",
       "      <td>60</td>\n",
       "      <td>69</td>\n",
       "      <td>386</td>\n",
       "      <td>91</td>\n",
       "      <td>52</td>\n",
       "      <td>820</td>\n",
       "    </tr>\n",
       "    <tr>\n",
       "      <th rowspan=\"8\" valign=\"top\">2018</th>\n",
       "      <th>1</th>\n",
       "      <td>219</td>\n",
       "      <td>135</td>\n",
       "      <td>91</td>\n",
       "      <td>109</td>\n",
       "      <td>83</td>\n",
       "      <td>77</td>\n",
       "      <td>470</td>\n",
       "      <td>85</td>\n",
       "      <td>62</td>\n",
       "      <td>1066</td>\n",
       "    </tr>\n",
       "    <tr>\n",
       "      <th>2</th>\n",
       "      <td>177</td>\n",
       "      <td>170</td>\n",
       "      <td>100</td>\n",
       "      <td>106</td>\n",
       "      <td>59</td>\n",
       "      <td>85</td>\n",
       "      <td>491</td>\n",
       "      <td>71</td>\n",
       "      <td>66</td>\n",
       "      <td>1004</td>\n",
       "    </tr>\n",
       "    <tr>\n",
       "      <th>3</th>\n",
       "      <td>217</td>\n",
       "      <td>147</td>\n",
       "      <td>119</td>\n",
       "      <td>110</td>\n",
       "      <td>79</td>\n",
       "      <td>99</td>\n",
       "      <td>408</td>\n",
       "      <td>82</td>\n",
       "      <td>72</td>\n",
       "      <td>1127</td>\n",
       "    </tr>\n",
       "    <tr>\n",
       "      <th>4</th>\n",
       "      <td>191</td>\n",
       "      <td>146</td>\n",
       "      <td>103</td>\n",
       "      <td>129</td>\n",
       "      <td>74</td>\n",
       "      <td>90</td>\n",
       "      <td>410</td>\n",
       "      <td>96</td>\n",
       "      <td>76</td>\n",
       "      <td>1135</td>\n",
       "    </tr>\n",
       "    <tr>\n",
       "      <th>5</th>\n",
       "      <td>191</td>\n",
       "      <td>140</td>\n",
       "      <td>100</td>\n",
       "      <td>91</td>\n",
       "      <td>100</td>\n",
       "      <td>84</td>\n",
       "      <td>417</td>\n",
       "      <td>95</td>\n",
       "      <td>62</td>\n",
       "      <td>1191</td>\n",
       "    </tr>\n",
       "    <tr>\n",
       "      <th>6</th>\n",
       "      <td>183</td>\n",
       "      <td>147</td>\n",
       "      <td>110</td>\n",
       "      <td>96</td>\n",
       "      <td>95</td>\n",
       "      <td>65</td>\n",
       "      <td>352</td>\n",
       "      <td>80</td>\n",
       "      <td>55</td>\n",
       "      <td>1040</td>\n",
       "    </tr>\n",
       "    <tr>\n",
       "      <th>7</th>\n",
       "      <td>156</td>\n",
       "      <td>165</td>\n",
       "      <td>72</td>\n",
       "      <td>101</td>\n",
       "      <td>89</td>\n",
       "      <td>77</td>\n",
       "      <td>382</td>\n",
       "      <td>80</td>\n",
       "      <td>58</td>\n",
       "      <td>1059</td>\n",
       "    </tr>\n",
       "    <tr>\n",
       "      <th>8</th>\n",
       "      <td>193</td>\n",
       "      <td>143</td>\n",
       "      <td>106</td>\n",
       "      <td>109</td>\n",
       "      <td>93</td>\n",
       "      <td>88</td>\n",
       "      <td>446</td>\n",
       "      <td>60</td>\n",
       "      <td>75</td>\n",
       "      <td>1269</td>\n",
       "    </tr>\n",
       "  </tbody>\n",
       "</table>\n",
       "</div>"
      ],
      "text/plain": [
       "              transaction_per_region_per_month                             \\\n",
       "customer_city                   belo horizonte brasilia campinas curitiba   \n",
       "year month                                                                  \n",
       "2017 1                                      16       13        7       38   \n",
       "     2                                      35       21       28       28   \n",
       "     3                                      94       51       27       30   \n",
       "     4                                      64       34       30       21   \n",
       "     5                                      79       60       37       51   \n",
       "     6                                      73       66       46       48   \n",
       "     7                                      95       73       53       53   \n",
       "     8                                      99       82       69       53   \n",
       "     9                                      97       94       70       48   \n",
       "     10                                    123       92       64       53   \n",
       "     11                                    212      157       89      129   \n",
       "     12                                    173      129       79       80   \n",
       "2018 1                                     219      135       91      109   \n",
       "     2                                     177      170      100      106   \n",
       "     3                                     217      147      119      110   \n",
       "     4                                     191      146      103      129   \n",
       "     5                                     191      140      100       91   \n",
       "     6                                     183      147      110       96   \n",
       "     7                                     156      165       72      101   \n",
       "     8                                     193      143      106      109   \n",
       "\n",
       "                                                              \\\n",
       "customer_city guarulhos porto alegre rio de janeiro salvador   \n",
       "year month                                                     \n",
       "2017 1                6           10             46        6   \n",
       "     2               13           25            128       18   \n",
       "     3               30           40            199       26   \n",
       "     4               35           37            164       29   \n",
       "     5               33           50            263       43   \n",
       "     6               36           55            206       29   \n",
       "     7               47           58            306       54   \n",
       "     8               41           82            292       53   \n",
       "     9               46           68            300       49   \n",
       "     10              54           70            351       53   \n",
       "     11              69          110            556       88   \n",
       "     12              60           69            386       91   \n",
       "2018 1               83           77            470       85   \n",
       "     2               59           85            491       71   \n",
       "     3               79           99            408       82   \n",
       "     4               74           90            410       96   \n",
       "     5              100           84            417       95   \n",
       "     6               95           65            352       80   \n",
       "     7               89           77            382       80   \n",
       "     8               93           88            446       60   \n",
       "\n",
       "                                               \n",
       "customer_city sao bernardo do campo sao paulo  \n",
       "year month                                     \n",
       "2017 1                            5        92  \n",
       "     2                           16       212  \n",
       "     3                           19       362  \n",
       "     4                           18       279  \n",
       "     5                           26       501  \n",
       "     6                           33       456  \n",
       "     7                           33       519  \n",
       "     8                           41       619  \n",
       "     9                           37       578  \n",
       "     10                          35       602  \n",
       "     11                          67      1081  \n",
       "     12                          52       820  \n",
       "2018 1                           62      1066  \n",
       "     2                           66      1004  \n",
       "     3                           72      1127  \n",
       "     4                           76      1135  \n",
       "     5                           62      1191  \n",
       "     6                           55      1040  \n",
       "     7                           58      1059  \n",
       "     8                           75      1269  "
      ]
     },
     "execution_count": 970,
     "metadata": {},
     "output_type": "execute_result"
    }
   ],
   "source": [
    "df=trend_cust.groupby(['customer_city','year','month']).agg({'transaction_per_region_per_month':'sum'})\n",
    "df\n",
    "df_new=df.unstack(0)\n",
    "df_new"
   ]
  },
  {
   "cell_type": "code",
   "execution_count": 969,
   "id": "275e5b9f",
   "metadata": {},
   "outputs": [
    {
     "data": {
      "text/plain": [
       "Text(0.5, 1.0, 'Trend of Transaction per Month from 10 City with Most Customer')"
      ]
     },
     "execution_count": 969,
     "metadata": {},
     "output_type": "execute_result"
    },
    {
     "data": {
      "image/png": "[encoded data removed]",
      "text/plain": [
       "<Figure size 720x1080 with 1 Axes>"
      ]
     },
     "metadata": {
      "needs_background": "light"
     },
     "output_type": "display_data"
    }
   ],
   "source": [
    "fig,axi=plt.subplots(nrows=1,ncols=1,figsize=(10,15))\n",
    "fig.autofmt_xdate(rotation=45)\n",
    "axi.axhspan(-10,1500,xmin=0,xmax=0.045, facecolor='r', alpha=0.05,zorder=10)\n",
    "axi.axhspan(-10,1500,xmin=0.045,xmax=0.695, facecolor='g', alpha=0.05,zorder=10)\n",
    "axi.axhspan(-10,1500,xmin=0.695,xmax=1, facecolor='y', alpha=0.05,zorder=10)\n",
    "df_new=df.unstack(0)\n",
    "df_new.rolling(6).mean().plot(ax=axi)\n",
    "plt.title('Trend of Transaction per Month from 10 City with Most Customer')"
   ]
  },
  {
   "cell_type": "markdown",
   "id": "4bb20e26",
   "metadata": {},
   "source": [
    "Need to make different plot because trend of city beside sao paulo and rio de janeiro is not clear."
   ]
  },
  {
   "cell_type": "code",
   "execution_count": 1090,
   "id": "ec0a3ec0",
   "metadata": {},
   "outputs": [
    {
     "data": {
      "image/png": "[encoded data removed]",
      "text/plain": [
       "<Figure size 1080x720 with 2 Axes>"
      ]
     },
     "metadata": {
      "needs_background": "light"
     },
     "output_type": "display_data"
    }
   ],
   "source": [
    "df_new_low=df_new.drop(columns=[('transaction_per_region_per_month', 'sao paulo'),('transaction_per_region_per_month', 'rio de janeiro')])\n",
    "df_new_high=df_new[[('transaction_per_region_per_month', 'sao paulo'),('transaction_per_region_per_month', 'rio de janeiro')]]\n",
    "fig,(ax1, ax2)=plt.subplots(nrows=1,ncols=2,figsize=(15,10))\n",
    "fig.suptitle('Trend of Transaction per Month from City with Most Customer',fontsize=22)\n",
    "df_new_low.rolling(6).mean().plot(legend=True, ax=ax2,)\n",
    "df_new_high.rolling(6).mean().plot(legend=True, ax=ax1,color=['black','grey'])\n",
    "ax1.axhspan(-10,1500,xmin=0,xmax=0.045, facecolor='r', alpha=0.05,zorder=10)\n",
    "ax1.axhspan(-10,1500,xmin=0.045,xmax=0.695, facecolor='g', alpha=0.05,zorder=10)\n",
    "ax1.axhspan(-10,1500,xmin=0.695,xmax=1, facecolor='y', alpha=0.05,zorder=10)\n",
    "ax1.tick_params(labelrotation=45)\n",
    "ax1.legend(fontsize=12)\n",
    "ax2.legend(fontsize=8)\n",
    "ax2.axhspan(-10,250,xmin=0,xmax=0.045, facecolor='r', alpha=0.05,zorder=10)\n",
    "ax2.axhspan(-10,250,xmin=0.045,xmax=0.695, facecolor='g', alpha=0.05,zorder=10)\n",
    "ax2.axhspan(-10,250,xmin=0.695,xmax=1, facecolor='y', alpha=0.05,zorder=10)\n",
    "ax2.tick_params(labelrotation=45)"
   ]
  },
  {
   "cell_type": "markdown",
   "id": "b814a9ab",
   "metadata": {},
   "source": [
    "As we can see, Sao Paulo and Guarulhos Transaction Trend Grow Positvely all time. Trend of Rio de Janeiro, Belo Horizonte Transaction start to decrease. The other city trend is start to stagnant."
   ]
  },
  {
   "cell_type": "markdown",
   "id": "62022978",
   "metadata": {},
   "source": [
    "## Predict number of transaction"
   ]
  },
  {
   "cell_type": "code",
   "execution_count": 649,
   "id": "6b6cf57f",
   "metadata": {},
   "outputs": [],
   "source": [
    "from statsmodels.tsa.stattools import adfuller\n",
    "from statsmodels.tsa.stattools import kpss"
   ]
  },
  {
   "cell_type": "code",
   "execution_count": 810,
   "id": "e4ea7498",
   "metadata": {},
   "outputs": [
    {
     "name": "stdout",
     "output_type": "stream",
     "text": [
      "Test Statistic: -2.243249\n",
      "p-value: 0.190925\n",
      "Critical values:\n",
      "\t1%: -3.859\n",
      "\t5%: -3.042\n",
      "\t10%: -2.661\n"
     ]
    }
   ],
   "source": [
    "#Augmented Dickey-Fuller Test:\n",
    "result=adfuller(transaction)\n",
    "print('Test Statistic: %f' %result[0])\n",
    "print('p-value: %f' %result[1])\n",
    "print('Critical values:')\n",
    "for key, value in result[4].items ():\n",
    "     print('\\t%s: %.3f' %(key, value))"
   ]
  },
  {
   "cell_type": "markdown",
   "id": "f4a1b5a5",
   "metadata": {},
   "source": [
    "From the Dickey-Fuller Test it can be conform that transaction data is non-stationary"
   ]
  },
  {
   "cell_type": "code",
   "execution_count": 841,
   "id": "77b9527f",
   "metadata": {},
   "outputs": [],
   "source": [
    "#Transform the data\n",
    "transaction_log=np.sqrt(transaction)\n",
    "transaction_log1=np.sqrt(transaction_log)\n",
    "transaction_log2=np.sqrt(transaction_log1)\n",
    "transaction_diff=transaction.diff().dropna()\n",
    "transaction_diff2=transaction_diff.diff().dropna()"
   ]
  },
  {
   "cell_type": "code",
   "execution_count": 858,
   "id": "bfd25def",
   "metadata": {},
   "outputs": [
    {
     "name": "stdout",
     "output_type": "stream",
     "text": [
      "Test Statistic: -7.788240\n",
      "p-value: 0.000000\n",
      "Critical values:\n",
      "\t1%: -3.859\n",
      "\t5%: -3.042\n",
      "\t10%: -2.661\n"
     ]
    }
   ],
   "source": [
    "result=adfuller(transaction_diff)\n",
    "print('Test Statistic: %f' %result[0])\n",
    "print('p-value: %f' %result[1])\n",
    "print('Critical values:')\n",
    "for key, value in result[4].items ():\n",
    "     print('\\t%s: %.3f' %(key, value))"
   ]
  },
  {
   "cell_type": "markdown",
   "id": "b3aa1e29",
   "metadata": {},
   "source": [
    "After doing difference transformation we can see that data become stationer"
   ]
  },
  {
   "cell_type": "code",
   "execution_count": 996,
   "id": "a8e80814",
   "metadata": {},
   "outputs": [
    {
     "data": {
      "image/png": "[encoded data removed]",
      "text/plain": [
       "<Figure size 432x288 with 1 Axes>"
      ]
     },
     "metadata": {
      "needs_background": "light"
     },
     "output_type": "display_data"
    }
   ],
   "source": [
    "plot_acf(transaction_diff,lags=15);"
   ]
  },
  {
   "cell_type": "code",
   "execution_count": 997,
   "id": "3d284394",
   "metadata": {},
   "outputs": [
    {
     "name": "stderr",
     "output_type": "stream",
     "text": [
      "/Users/ryanalhakim27/opt/anaconda3/lib/python3.9/site-packages/statsmodels/graphics/tsaplots.py:348: FutureWarning: The default method 'yw' can produce PACF values outside of the [-1,1] interval. After 0.13, the default will change tounadjusted Yule-Walker ('ywm'). You can use this method now by setting method='ywm'.\n",
      "  warnings.warn(\n"
     ]
    },
    {
     "data": {
      "image/png": "[encoded data removed]",
      "text/plain": [
       "<Figure size 432x288 with 1 Axes>"
      ]
     },
     "metadata": {
      "needs_background": "light"
     },
     "output_type": "display_data"
    }
   ],
   "source": [
    "plot_pacf(transaction_diff,lags=8);"
   ]
  },
  {
   "cell_type": "code",
   "execution_count": 1087,
   "id": "57342ec2",
   "metadata": {},
   "outputs": [
    {
     "name": "stderr",
     "output_type": "stream",
     "text": [
      "/Users/ryanalhakim27/opt/anaconda3/lib/python3.9/site-packages/statsmodels/tsa/base/tsa_model.py:471: ValueWarning: No frequency information was provided, so inferred frequency MS will be used.\n",
      "  self._init_dates(dates, freq)\n",
      "/Users/ryanalhakim27/opt/anaconda3/lib/python3.9/site-packages/statsmodels/tsa/base/tsa_model.py:471: ValueWarning: No frequency information was provided, so inferred frequency MS will be used.\n",
      "  self._init_dates(dates, freq)\n",
      "/Users/ryanalhakim27/opt/anaconda3/lib/python3.9/site-packages/statsmodels/tsa/base/tsa_model.py:471: ValueWarning: No frequency information was provided, so inferred frequency MS will be used.\n",
      "  self._init_dates(dates, freq)\n",
      "/Users/ryanalhakim27/opt/anaconda3/lib/python3.9/site-packages/statsmodels/tsa/statespace/sarimax.py:978: UserWarning: Non-invertible starting MA parameters found. Using zeros as starting parameters.\n",
      "  warn('Non-invertible starting MA parameters found.'\n"
     ]
    },
    {
     "name": "stdout",
     "output_type": "stream",
     "text": [
      "                                     SARIMAX Results                                     \n",
      "=========================================================================================\n",
      "Dep. Variable:     number_of_success_transaction   No. Observations:                   16\n",
      "Model:                            ARIMA(1, 3, 1)   Log Likelihood                -111.554\n",
      "Date:                           Sun, 12 Feb 2023   AIC                            229.108\n",
      "Time:                                   17:56:22   BIC                            230.803\n",
      "Sample:                               01-01-2017   HQIC                           228.759\n",
      "                                    - 04-01-2018                                         \n",
      "Covariance Type:                             opg                                         \n",
      "==============================================================================\n",
      "                 coef    std err          z      P>|z|      [0.025      0.975]\n",
      "------------------------------------------------------------------------------\n",
      "ar.L1         -0.8010      0.233     -3.433      0.001      -1.258      -0.344\n",
      "ma.L1         -0.9989      0.374     -2.671      0.008      -1.732      -0.266\n",
      "sigma2      1.436e+06   2.61e-07   5.49e+12      0.000    1.44e+06    1.44e+06\n",
      "===================================================================================\n",
      "Ljung-Box (L1) (Q):                   3.36   Jarque-Bera (JB):                 0.92\n",
      "Prob(Q):                              0.07   Prob(JB):                         0.63\n",
      "Heteroskedasticity (H):               0.44   Skew:                             0.17\n",
      "Prob(H) (two-sided):                  0.44   Kurtosis:                         4.26\n",
      "===================================================================================\n",
      "\n",
      "Warnings:\n",
      "[1] Covariance matrix calculated using the outer product of gradients (complex-step).\n",
      "[2] Covariance matrix is singular or near-singular, with condition number 5.08e+28. Standard errors may be unstable.\n"
     ]
    },
    {
     "data": {
      "image/png": "[encoded data removed]",
      "text/plain": [
       "<Figure size 1152x576 with 4 Axes>"
      ]
     },
     "metadata": {
      "needs_background": "light"
     },
     "output_type": "display_data"
    }
   ],
   "source": [
    "transaction.index = pd.to_datetime(transaction.index)\n",
    "train = data['number_of_success_transaction'][:16]\n",
    "test = data['number_of_success_transaction'][16:]\n",
    "# p,d,q ARIMA Model\n",
    "model = ARIMA(train, order=(1,3,1))\n",
    "model_fit = model.fit()\n",
    "print(model_fit.summary())\n",
    "model_fit.plot_diagnostics(figsize=(16, 8))\n",
    "plt.show()"
   ]
  },
  {
   "cell_type": "code",
   "execution_count": 1062,
   "id": "d434f678",
   "metadata": {},
   "outputs": [],
   "source": [
    "#USING AUTOARIMA\n",
    "#transaction.index = pd.to_datetime(transaction.index)\n",
    "#train = data['number_of_success_transaction'][:16]\n",
    "#test = data['number_of_success_transaction'][16:]\n",
    "#plt.plot(train)\n",
    "#plt.plot(test)\n",
    "#arima_model=auto_arima(train,start_p=0, d=1, start_q=0, \n",
    "#                       max_p=8, max_d=5, max_q=8,start_P=0, \n",
    "#                       D=1, start_Q=0, max_P=5, max_D=8, \n",
    "#                       error_action='warn',trace=True,\n",
    "#                       random_state=20,n_fits=5\n",
    "#                      )\n"
   ]
  },
  {
   "cell_type": "code",
   "execution_count": 1084,
   "id": "135e4e91",
   "metadata": {},
   "outputs": [
    {
     "data": {
      "image/png": "[encoded data removed]",
      "text/plain": [
       "<Figure size 1008x504 with 1 Axes>"
      ]
     },
     "metadata": {
      "needs_background": "light"
     },
     "output_type": "display_data"
    }
   ],
   "source": [
    "pred = model_fit.get_prediction(start=pd.to_datetime('2017-11-01'),end=pd.to_datetime('2018-08-01'), dynamic=False)\n",
    "pred_ci = pred.conf_int()\n",
    "ax = transaction['2017':].plot(label='observed')\n",
    "pred.predicted_mean.plot(ax=ax, label='One-step ahead Forecast', alpha=.7, figsize=(14, 7))\n",
    "ax.fill_between(pred_ci.index,\n",
    "                pred_ci.iloc[:, 0],\n",
    "                pred_ci.iloc[:, 1], color='k', alpha=.2)\n",
    "ax.set_xlabel('Date')\n",
    "ax.set_ylabel('Transaction')\n",
    "plt.legend()\n",
    "plt.show()"
   ]
  },
  {
   "cell_type": "code",
   "execution_count": 1085,
   "id": "a6842fbb",
   "metadata": {},
   "outputs": [
    {
     "name": "stdout",
     "output_type": "stream",
     "text": [
      "The Mean Squared Error of our forecasts is 1899211.44\n",
      "The Root Mean Squared Error of our forecasts is 1378.12\n"
     ]
    }
   ],
   "source": [
    "y_forecasted = pred.predicted_mean\n",
    "y_truth = transaction['2017-01-01':]\n",
    "mse = ((y_forecasted - y_truth) ** 2).mean()\n",
    "print('The Mean Squared Error of our forecasts is {}'.format(round(mse, 2)))\n",
    "print('The Root Mean Squared Error of our forecasts is {}'.format(round(np.sqrt(mse), 2)))"
   ]
  },
  {
   "cell_type": "code",
   "execution_count": 1086,
   "id": "84b3f641",
   "metadata": {},
   "outputs": [
    {
     "data": {
      "text/plain": [
       "2018-05-01    7070.221840\n",
       "2018-06-01    6914.336638\n",
       "2018-07-01    7055.529801\n",
       "2018-08-01    6912.914221\n",
       "2018-09-01    6951.791363\n",
       "2018-10-01    6799.446031\n",
       "2018-11-01    6754.430084\n",
       "2018-12-01    6577.597885\n",
       "Freq: MS, Name: predicted_mean, dtype: float64"
      ]
     },
     "execution_count": 1086,
     "metadata": {},
     "output_type": "execute_result"
    }
   ],
   "source": [
    "model_fit.forecast(8)"
   ]
  },
  {
   "cell_type": "markdown",
   "id": "72cbbebb",
   "metadata": {},
   "source": [
    "Berdasarkan hasil forecasting terhadap transaksi. Apabila tidak ada intervensi yang dilakukan maka transaksi relatif stagnan hingga akhir tahun 2018."
   ]
  },
  {
   "cell_type": "markdown",
   "id": "0298db03",
   "metadata": {},
   "source": [
    "## Analisa Product Per Region"
   ]
  },
  {
   "cell_type": "code",
   "execution_count": 43,
   "id": "4ecfdd64",
   "metadata": {},
   "outputs": [
    {
     "data": {
      "text/html": [
       "<div>\n",
       "<style scoped>\n",
       "    .dataframe tbody tr th:only-of-type {\n",
       "        vertical-align: middle;\n",
       "    }\n",
       "\n",
       "    .dataframe tbody tr th {\n",
       "        vertical-align: top;\n",
       "    }\n",
       "\n",
       "    .dataframe thead th {\n",
       "        text-align: right;\n",
       "    }\n",
       "</style>\n",
       "<table border=\"1\" class=\"dataframe\">\n",
       "  <thead>\n",
       "    <tr style=\"text-align: right;\">\n",
       "      <th></th>\n",
       "      <th>customer_city</th>\n",
       "      <th>product_category</th>\n",
       "      <th>number_of_product</th>\n",
       "    </tr>\n",
       "  </thead>\n",
       "  <tbody>\n",
       "    <tr>\n",
       "      <th>3595</th>\n",
       "      <td>sao paulo</td>\n",
       "      <td>bed_bath_table</td>\n",
       "      <td>1950</td>\n",
       "    </tr>\n",
       "    <tr>\n",
       "      <th>13961</th>\n",
       "      <td>sao paulo</td>\n",
       "      <td>health_beauty</td>\n",
       "      <td>1715</td>\n",
       "    </tr>\n",
       "    <tr>\n",
       "      <th>20735</th>\n",
       "      <td>sao paulo</td>\n",
       "      <td>sports_leisure</td>\n",
       "      <td>1355</td>\n",
       "    </tr>\n",
       "    <tr>\n",
       "      <th>15970</th>\n",
       "      <td>sao paulo</td>\n",
       "      <td>housewares</td>\n",
       "      <td>1292</td>\n",
       "    </tr>\n",
       "    <tr>\n",
       "      <th>11319</th>\n",
       "      <td>sao paulo</td>\n",
       "      <td>furniture_decor</td>\n",
       "      <td>1238</td>\n",
       "    </tr>\n",
       "    <tr>\n",
       "      <th>...</th>\n",
       "      <td>...</td>\n",
       "      <td>...</td>\n",
       "      <td>...</td>\n",
       "    </tr>\n",
       "    <tr>\n",
       "      <th>10288</th>\n",
       "      <td>salvador</td>\n",
       "      <td>furniture_bedroom</td>\n",
       "      <td>1</td>\n",
       "    </tr>\n",
       "    <tr>\n",
       "      <th>10289</th>\n",
       "      <td>santa barbara d'oeste</td>\n",
       "      <td>furniture_bedroom</td>\n",
       "      <td>1</td>\n",
       "    </tr>\n",
       "    <tr>\n",
       "      <th>10290</th>\n",
       "      <td>santa branca</td>\n",
       "      <td>furniture_bedroom</td>\n",
       "      <td>1</td>\n",
       "    </tr>\n",
       "    <tr>\n",
       "      <th>10291</th>\n",
       "      <td>santo andre</td>\n",
       "      <td>furniture_bedroom</td>\n",
       "      <td>1</td>\n",
       "    </tr>\n",
       "    <tr>\n",
       "      <th>24898</th>\n",
       "      <td>xinguara</td>\n",
       "      <td>watches_gifts</td>\n",
       "      <td>1</td>\n",
       "    </tr>\n",
       "  </tbody>\n",
       "</table>\n",
       "<p>24899 rows × 3 columns</p>\n",
       "</div>"
      ],
      "text/plain": [
       "               customer_city   product_category  number_of_product\n",
       "3595               sao paulo     bed_bath_table               1950\n",
       "13961              sao paulo      health_beauty               1715\n",
       "20735              sao paulo     sports_leisure               1355\n",
       "15970              sao paulo         housewares               1292\n",
       "11319              sao paulo    furniture_decor               1238\n",
       "...                      ...                ...                ...\n",
       "10288               salvador  furniture_bedroom                  1\n",
       "10289  santa barbara d'oeste  furniture_bedroom                  1\n",
       "10290           santa branca  furniture_bedroom                  1\n",
       "10291            santo andre  furniture_bedroom                  1\n",
       "24898               xinguara      watches_gifts                  1\n",
       "\n",
       "[24899 rows x 3 columns]"
      ]
     },
     "execution_count": 43,
     "metadata": {},
     "output_type": "execute_result"
    }
   ],
   "source": [
    "#Customer Non Sao Paulo\n",
    "q4 ='''\n",
    "WITH port_table AS(\n",
    "SELECT\n",
    "    itm.order_id ,\n",
    "    prod.product_category_name\n",
    "FROM\n",
    "    olist_order_items_dataset itm\n",
    "JOIN\n",
    "    olist_products_dataset prod\n",
    "ON\n",
    "    itm.product_id = prod.product_id\n",
    "), eng_table AS (\n",
    "SELECT\n",
    "    por.order_id,\n",
    "    eng.product_category_name_english AS product_category\n",
    "FROM\n",
    "    port_table por\n",
    "JOIN\n",
    "    product_category_name_translation eng\n",
    "ON\n",
    "    eng.product_category_name = por.product_category_name\n",
    "),customer_product AS (\n",
    "SELECT\n",
    "    od.customer_id,\n",
    "    et.product_category \n",
    "FROM\n",
    "    eng_table et\n",
    "JOIN\n",
    "    olist_order_dataset od\n",
    "ON\n",
    "    od.order_id = et.order_id\n",
    "WHERE \n",
    "    od.order_status = 'delivered'\n",
    ")\n",
    "SELECT\n",
    "    DISTINCT ct.customer_city,\n",
    "    cp.product_category,\n",
    "    COUNT(cp.product_category) OVER(PARTITION BY product_category, customer_city ) AS number_of_product \n",
    "FROM\n",
    "    customer_product cp\n",
    "JOIN\n",
    "    olist_order_customer_dataset ct\n",
    "ON\n",
    "    ct.customer_id = cp.customer_id\n",
    "'''\n",
    "prod_test=pd.read_sql_query(q4,conn)\n",
    "prod_test.sort_values('number_of_product',ascending=False)"
   ]
  },
  {
   "cell_type": "code",
   "execution_count": null,
   "id": "90d2294b",
   "metadata": {},
   "outputs": [],
   "source": []
  }
 ],
 "metadata": {
  "kernelspec": {
   "display_name": "Python 3 (ipykernel)",
   "language": "python",
   "name": "python3"
  },
  "language_info": {
   "codemirror_mode": {
    "name": "ipython",
    "version": 3
   },
   "file_extension": ".py",
   "mimetype": "text/x-python",
   "name": "python",
   "nbconvert_exporter": "python",
   "pygments_lexer": "ipython3",
   "version": "3.9.12"
  }
 },
 "nbformat": 4,
 "nbformat_minor": 5
}
